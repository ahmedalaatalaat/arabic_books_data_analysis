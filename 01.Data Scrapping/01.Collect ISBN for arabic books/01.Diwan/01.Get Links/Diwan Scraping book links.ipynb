{
 "cells": [
  {
   "cell_type": "markdown",
   "metadata": {},
   "source": [
    "![Diwan logo](https://cairowestmag.com/wp-content/uploads/2017/03/Diwan-Bookstores-Logo.png)\n",
    "\n",
    "# Diwan website books scrapping\n",
    "**Note: All the links were collected on 11-02-2023**\n",
    "\n",
    "In this notebook we will scrape all the books data in diwan website to be used later to get books ISBN"
   ]
  },
  {
   "cell_type": "code",
   "execution_count": null,
   "metadata": {},
   "outputs": [],
   "source": [
    "import requests\n",
    "from bs4 import BeautifulSoup\n",
    "import csv"
   ]
  },
  {
   "cell_type": "code",
   "execution_count": null,
   "metadata": {},
   "outputs": [],
   "source": [
    "url = 'https://diwanegypt.com/product-category/books/arabic-books/'\n",
    "response = requests.get(url)\n",
    "soup =  BeautifulSoup(response.text, 'html.parser') "
   ]
  },
  {
   "cell_type": "code",
   "execution_count": null,
   "metadata": {},
   "outputs": [],
   "source": [
    "def get_page(url):\n",
    "    response = requests.get(url)\n",
    "    return BeautifulSoup(response.text, 'html.parser') \n",
    "\n",
    "\n",
    "def find_all_pages_in_category(page):\n",
    "    pages_number =  int(page.find('ul', {'class':'page-numbers'}).find_all('li')[-2].a.get_text())\n",
    "    pages = [f'https://diwanegypt.com/product-category/books/arabic-books/page/{i}/' for i in range(1, pages_number + 1)]\n",
    "    return pages     "
   ]
  },
  {
   "cell_type": "code",
   "execution_count": null,
   "metadata": {},
   "outputs": [],
   "source": [
    "pages = find_all_pages_in_category(soup)\n",
    "with open(f'my_books_lib_diwan_arabic.csv', 'w', encoding='utf-8-sig', newline=\"\") as file:\n",
    "    writer = csv.writer(file)\n",
    "    writer.writerow(['Name', 'Author', 'Price', 'Link'])\n",
    "    \n",
    "    for page in pages:\n",
    "        page = get_page(page)\n",
    "        books = page.find_all('li', {'class': 'product'})\n",
    "\n",
    "        for book in books:\n",
    "            link = book.find('a').get('href')\n",
    "            name = book.find('h2', {'class':'woocommerce-loop-product__title'}).get_text()\n",
    "            author = book.find('span', {'class':'author'}).get_text()\n",
    "            price = book.find('bdi').get_text()[3:]\n",
    "            print([name, author, price, link])\n",
    "            writer.writerow([name, author, price, link])\n",
    "            print('-'*70)"
   ]
  }
 ],
 "metadata": {
  "kernelspec": {
   "display_name": "Python 3 (ipykernel)",
   "language": "python",
   "name": "python3"
  },
  "language_info": {
   "codemirror_mode": {
    "name": "ipython",
    "version": 3
   },
   "file_extension": ".py",
   "mimetype": "text/x-python",
   "name": "python",
   "nbconvert_exporter": "python",
   "pygments_lexer": "ipython3",
   "version": "3.9.13"
  }
 },
 "nbformat": 4,
 "nbformat_minor": 4
}
