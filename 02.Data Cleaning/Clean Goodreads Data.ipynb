{
 "cells": [
  {
   "cell_type": "markdown",
   "id": "363c272c",
   "metadata": {},
   "source": [
    "#### Import Main Libraries"
   ]
  },
  {
   "cell_type": "code",
   "execution_count": 1,
   "id": "fa932b5f",
   "metadata": {
    "scrolled": true
   },
   "outputs": [],
   "source": [
    "from datetime import datetime\n",
    "import pandas as pd\n",
    "import numpy as np\n",
    "import string\n",
    "import re"
   ]
  },
  {
   "cell_type": "markdown",
   "id": "9e92b605",
   "metadata": {},
   "source": [
    "#### Import Data and put it in one file"
   ]
  },
  {
   "cell_type": "code",
   "execution_count": 2,
   "id": "d82ffa97",
   "metadata": {},
   "outputs": [],
   "source": [
    "df_1 = pd.read_csv(f'data/goodreads_part_1.csv', encoding='utf-16')\n",
    "df_2 = pd.read_csv(f'data/goodreads_part_2.csv')\n",
    "df_3 = pd.read_csv(f'data/goodreads_part_3.csv')\n",
    "\n",
    "df = pd.concat([df_1, df_2, df_3])"
   ]
  },
  {
   "cell_type": "markdown",
   "id": "4a6ab620",
   "metadata": {},
   "source": [
    "#### Quick data investigation"
   ]
  },
  {
   "cell_type": "code",
   "execution_count": 3,
   "id": "c636e0f0",
   "metadata": {},
   "outputs": [
    {
     "data": {
      "text/html": [
       "<div>\n",
       "<style scoped>\n",
       "    .dataframe tbody tr th:only-of-type {\n",
       "        vertical-align: middle;\n",
       "    }\n",
       "\n",
       "    .dataframe tbody tr th {\n",
       "        vertical-align: top;\n",
       "    }\n",
       "\n",
       "    .dataframe thead th {\n",
       "        text-align: right;\n",
       "    }\n",
       "</style>\n",
       "<table border=\"1\" class=\"dataframe\">\n",
       "  <thead>\n",
       "    <tr style=\"text-align: right;\">\n",
       "      <th></th>\n",
       "      <th>ISBN</th>\n",
       "      <th>goodreads_id</th>\n",
       "      <th>title</th>\n",
       "      <th>image</th>\n",
       "      <th>goodreads_link</th>\n",
       "      <th>publication_info</th>\n",
       "      <th>number_of_rattings</th>\n",
       "      <th>number_of_reviews</th>\n",
       "      <th>book_rate</th>\n",
       "      <th>number_of_5_stars_rating</th>\n",
       "      <th>...</th>\n",
       "      <th>original_title</th>\n",
       "      <th>book_format</th>\n",
       "      <th>published</th>\n",
       "      <th>language</th>\n",
       "      <th>setting</th>\n",
       "      <th>all_contributors</th>\n",
       "      <th>number_of_editions</th>\n",
       "      <th>currently_reading</th>\n",
       "      <th>to_read</th>\n",
       "      <th>all_genres</th>\n",
       "    </tr>\n",
       "  </thead>\n",
       "  <tbody>\n",
       "    <tr>\n",
       "      <th>0</th>\n",
       "      <td>9786140105232 (ISBN10: 6140105234)</td>\n",
       "      <td>13637412</td>\n",
       "      <td>ساق البامبو</td>\n",
       "      <td>https://images-na.ssl-images-amazon.com/images...</td>\n",
       "      <td>https://www.goodreads.com/book/show/13637412</td>\n",
       "      <td>First published May 1, 2012</td>\n",
       "      <td>55,915 ratings</td>\n",
       "      <td>8,774 reviews</td>\n",
       "      <td>4.22</td>\n",
       "      <td>26,012 (46%)</td>\n",
       "      <td>...</td>\n",
       "      <td>ساق البامبو</td>\n",
       "      <td>400 pages, Paperback</td>\n",
       "      <td>January 1, 2014 by الدار العربية للعلوم ناشرون</td>\n",
       "      <td>Arabic</td>\n",
       "      <td>Kuwait, Philippines</td>\n",
       "      <td>سعود السنعوسي,Saud Alsanousi</td>\n",
       "      <td>NaN</td>\n",
       "      <td>3,177 people are currently reading</td>\n",
       "      <td>39.6k people want to read</td>\n",
       "      <td>Novels,Fiction,Literature,Contemporary,Drama,S...</td>\n",
       "    </tr>\n",
       "    <tr>\n",
       "      <th>1</th>\n",
       "      <td>(ISBN10: 9770907375)</td>\n",
       "      <td>3438000</td>\n",
       "      <td>ثلاثية غرناطة</td>\n",
       "      <td>https://images-na.ssl-images-amazon.com/images...</td>\n",
       "      <td>https://www.goodreads.com/book/show/3438000</td>\n",
       "      <td>First published January 1, 1994</td>\n",
       "      <td>45,598 ratings</td>\n",
       "      <td>7,873 reviews</td>\n",
       "      <td>4.30</td>\n",
       "      <td>23,774 (52%)</td>\n",
       "      <td>...</td>\n",
       "      <td>ثلاثية غرناطة</td>\n",
       "      <td>502 pages, Paperback</td>\n",
       "      <td>January 1, 2009 by دار الشروق</td>\n",
       "      <td>Arabic</td>\n",
       "      <td>الأندلس</td>\n",
       "      <td>رضوى عاشور,Radwa Ashour</td>\n",
       "      <td>Show all 23 editions</td>\n",
       "      <td>6,400 people are currently reading</td>\n",
       "      <td>64.3k people want to read</td>\n",
       "      <td>Novels,Fiction,Historical Fiction,Literature,H...</td>\n",
       "    </tr>\n",
       "    <tr>\n",
       "      <th>2</th>\n",
       "      <td>NaN</td>\n",
       "      <td>3554772</td>\n",
       "      <td>عزازيل</td>\n",
       "      <td>https://images-na.ssl-images-amazon.com/images...</td>\n",
       "      <td>https://www.goodreads.com/book/show/3554772</td>\n",
       "      <td>First published January 1, 2008</td>\n",
       "      <td>49,996 ratings</td>\n",
       "      <td>5,633 reviews</td>\n",
       "      <td>4.04</td>\n",
       "      <td>20,395 (40%)</td>\n",
       "      <td>...</td>\n",
       "      <td>عزازيل</td>\n",
       "      <td>470 pages, Paperback</td>\n",
       "      <td>January 1, 2009 by دار الشروق</td>\n",
       "      <td>Arabic</td>\n",
       "      <td>NaN</td>\n",
       "      <td>Youssef Ziedan,يوسف زيدان,Lorenzo Declich (Tra...</td>\n",
       "      <td>Show all 39 editions</td>\n",
       "      <td>4,716 people are currently reading</td>\n",
       "      <td>46.3k people want to read</td>\n",
       "      <td>Novels,Fiction,Historical Fiction,Literature,E...</td>\n",
       "    </tr>\n",
       "    <tr>\n",
       "      <th>3</th>\n",
       "      <td>9780435900663 (ISBN10: 0435900668)</td>\n",
       "      <td>669780.Season_of_Migration_to_the_North</td>\n",
       "      <td>Season of Migration to the North</td>\n",
       "      <td>https://images-na.ssl-images-amazon.com/images...</td>\n",
       "      <td>https://www.goodreads.com/book/show/669780.Sea...</td>\n",
       "      <td>First published January 1, 1966</td>\n",
       "      <td>25,950 ratings</td>\n",
       "      <td>3,403 reviews</td>\n",
       "      <td>3.71</td>\n",
       "      <td>6,820 (26%)</td>\n",
       "      <td>...</td>\n",
       "      <td>موسم الهجرة إلى الشمال</td>\n",
       "      <td>176 pages, Paperback</td>\n",
       "      <td>January 1, 1970 by Heinemann</td>\n",
       "      <td>English</td>\n",
       "      <td>North Africa, Sudan</td>\n",
       "      <td>Tayeb Salih,Denys Johnson-Davies (Translator)</td>\n",
       "      <td>Show all 70 editions</td>\n",
       "      <td>1,021 people are currently reading</td>\n",
       "      <td>36.9k people want to read</td>\n",
       "      <td>Fiction,Africa,Classics,Novels,Sudan,Literatur...</td>\n",
       "    </tr>\n",
       "    <tr>\n",
       "      <th>4</th>\n",
       "      <td>9789953267195</td>\n",
       "      <td>16081961</td>\n",
       "      <td>الأسود يليق بك</td>\n",
       "      <td>https://images-na.ssl-images-amazon.com/images...</td>\n",
       "      <td>https://www.goodreads.com/book/show/16081961</td>\n",
       "      <td>First published January 1, 2012</td>\n",
       "      <td>62,949 ratings</td>\n",
       "      <td>6,047 reviews</td>\n",
       "      <td>3.64</td>\n",
       "      <td>20,138 (31%)</td>\n",
       "      <td>...</td>\n",
       "      <td>الأسود يليق بك</td>\n",
       "      <td>331 pages, Paperback</td>\n",
       "      <td>November 9, 2012 by Nawfal</td>\n",
       "      <td>Arabic</td>\n",
       "      <td>NaN</td>\n",
       "      <td>Ahlam Mosteghanemi,أحلام مستغانمي</td>\n",
       "      <td>Show all 12 editions</td>\n",
       "      <td>6,329 people are currently reading</td>\n",
       "      <td>62.6k people want to read</td>\n",
       "      <td>Novels,Romance,Fiction,Literature,Romantic,Lov...</td>\n",
       "    </tr>\n",
       "  </tbody>\n",
       "</table>\n",
       "<p>5 rows × 28 columns</p>\n",
       "</div>"
      ],
      "text/plain": [
       "                                 ISBN  \\\n",
       "0  9786140105232 (ISBN10: 6140105234)   \n",
       "1                (ISBN10: 9770907375)   \n",
       "2                                 NaN   \n",
       "3  9780435900663 (ISBN10: 0435900668)   \n",
       "4                      9789953267195    \n",
       "\n",
       "                              goodreads_id                             title  \\\n",
       "0                                 13637412                       ساق البامبو   \n",
       "1                                  3438000                     ثلاثية غرناطة   \n",
       "2                                  3554772                            عزازيل   \n",
       "3  669780.Season_of_Migration_to_the_North  Season of Migration to the North   \n",
       "4                                 16081961                    الأسود يليق بك   \n",
       "\n",
       "                                               image  \\\n",
       "0  https://images-na.ssl-images-amazon.com/images...   \n",
       "1  https://images-na.ssl-images-amazon.com/images...   \n",
       "2  https://images-na.ssl-images-amazon.com/images...   \n",
       "3  https://images-na.ssl-images-amazon.com/images...   \n",
       "4  https://images-na.ssl-images-amazon.com/images...   \n",
       "\n",
       "                                      goodreads_link  \\\n",
       "0       https://www.goodreads.com/book/show/13637412   \n",
       "1        https://www.goodreads.com/book/show/3438000   \n",
       "2        https://www.goodreads.com/book/show/3554772   \n",
       "3  https://www.goodreads.com/book/show/669780.Sea...   \n",
       "4       https://www.goodreads.com/book/show/16081961   \n",
       "\n",
       "                  publication_info number_of_rattings number_of_reviews  \\\n",
       "0      First published May 1, 2012     55,915 ratings     8,774 reviews   \n",
       "1  First published January 1, 1994     45,598 ratings     7,873 reviews   \n",
       "2  First published January 1, 2008     49,996 ratings     5,633 reviews   \n",
       "3  First published January 1, 1966     25,950 ratings     3,403 reviews   \n",
       "4  First published January 1, 2012     62,949 ratings     6,047 reviews   \n",
       "\n",
       "   book_rate number_of_5_stars_rating  ...          original_title  \\\n",
       "0       4.22             26,012 (46%)  ...             ساق البامبو   \n",
       "1       4.30             23,774 (52%)  ...           ثلاثية غرناطة   \n",
       "2       4.04             20,395 (40%)  ...                  عزازيل   \n",
       "3       3.71              6,820 (26%)  ...  موسم الهجرة إلى الشمال   \n",
       "4       3.64             20,138 (31%)  ...          الأسود يليق بك   \n",
       "\n",
       "            book_format                                       published  \\\n",
       "0  400 pages, Paperback  January 1, 2014 by الدار العربية للعلوم ناشرون   \n",
       "1  502 pages, Paperback                   January 1, 2009 by دار الشروق   \n",
       "2  470 pages, Paperback                   January 1, 2009 by دار الشروق   \n",
       "3  176 pages, Paperback                    January 1, 1970 by Heinemann   \n",
       "4  331 pages, Paperback                      November 9, 2012 by Nawfal   \n",
       "\n",
       "  language              setting  \\\n",
       "0   Arabic  Kuwait, Philippines   \n",
       "1   Arabic              الأندلس   \n",
       "2   Arabic                  NaN   \n",
       "3  English  North Africa, Sudan   \n",
       "4   Arabic                  NaN   \n",
       "\n",
       "                                    all_contributors    number_of_editions  \\\n",
       "0                       سعود السنعوسي,Saud Alsanousi                   NaN   \n",
       "1                            رضوى عاشور,Radwa Ashour  Show all 23 editions   \n",
       "2  Youssef Ziedan,يوسف زيدان,Lorenzo Declich (Tra...  Show all 39 editions   \n",
       "3      Tayeb Salih,Denys Johnson-Davies (Translator)  Show all 70 editions   \n",
       "4                  Ahlam Mosteghanemi,أحلام مستغانمي  Show all 12 editions   \n",
       "\n",
       "                    currently_reading                    to_read  \\\n",
       "0  3,177 people are currently reading  39.6k people want to read   \n",
       "1  6,400 people are currently reading  64.3k people want to read   \n",
       "2  4,716 people are currently reading  46.3k people want to read   \n",
       "3  1,021 people are currently reading  36.9k people want to read   \n",
       "4  6,329 people are currently reading  62.6k people want to read   \n",
       "\n",
       "                                          all_genres  \n",
       "0  Novels,Fiction,Literature,Contemporary,Drama,S...  \n",
       "1  Novels,Fiction,Historical Fiction,Literature,H...  \n",
       "2  Novels,Fiction,Historical Fiction,Literature,E...  \n",
       "3  Fiction,Africa,Classics,Novels,Sudan,Literatur...  \n",
       "4  Novels,Romance,Fiction,Literature,Romantic,Lov...  \n",
       "\n",
       "[5 rows x 28 columns]"
      ]
     },
     "execution_count": 3,
     "metadata": {},
     "output_type": "execute_result"
    }
   ],
   "source": [
    "df.head()"
   ]
  },
  {
   "cell_type": "code",
   "execution_count": 4,
   "id": "7842d32a",
   "metadata": {},
   "outputs": [
    {
     "data": {
      "text/html": [
       "<div>\n",
       "<style scoped>\n",
       "    .dataframe tbody tr th:only-of-type {\n",
       "        vertical-align: middle;\n",
       "    }\n",
       "\n",
       "    .dataframe tbody tr th {\n",
       "        vertical-align: top;\n",
       "    }\n",
       "\n",
       "    .dataframe thead th {\n",
       "        text-align: right;\n",
       "    }\n",
       "</style>\n",
       "<table border=\"1\" class=\"dataframe\">\n",
       "  <thead>\n",
       "    <tr style=\"text-align: right;\">\n",
       "      <th></th>\n",
       "      <th>ISBN</th>\n",
       "      <th>goodreads_id</th>\n",
       "      <th>title</th>\n",
       "      <th>image</th>\n",
       "      <th>goodreads_link</th>\n",
       "      <th>publication_info</th>\n",
       "      <th>number_of_rattings</th>\n",
       "      <th>number_of_reviews</th>\n",
       "      <th>book_rate</th>\n",
       "      <th>number_of_5_stars_rating</th>\n",
       "      <th>...</th>\n",
       "      <th>original_title</th>\n",
       "      <th>book_format</th>\n",
       "      <th>published</th>\n",
       "      <th>language</th>\n",
       "      <th>setting</th>\n",
       "      <th>all_contributors</th>\n",
       "      <th>number_of_editions</th>\n",
       "      <th>currently_reading</th>\n",
       "      <th>to_read</th>\n",
       "      <th>all_genres</th>\n",
       "    </tr>\n",
       "  </thead>\n",
       "  <tbody>\n",
       "    <tr>\n",
       "      <th>1543</th>\n",
       "      <td>9786144258835</td>\n",
       "      <td>45538874</td>\n",
       "      <td>منتجع الساحرات</td>\n",
       "      <td>https://images-na.ssl-images-amazon.com/images...</td>\n",
       "      <td>https://www.goodreads.com/book/show/45538874</td>\n",
       "      <td>First published January 1, 2015</td>\n",
       "      <td>300 ratings</td>\n",
       "      <td>98 reviews</td>\n",
       "      <td>3.13</td>\n",
       "      <td>27 (9%)</td>\n",
       "      <td>...</td>\n",
       "      <td>منتجع الساحرات</td>\n",
       "      <td>175 pages, Paperback</td>\n",
       "      <td>دار الساقي</td>\n",
       "      <td>Arabic</td>\n",
       "      <td>NaN</td>\n",
       "      <td>Amir Tag Elsir,أمير تاج السر</td>\n",
       "      <td>Show all 2 editions</td>\n",
       "      <td>17 people are currently reading</td>\n",
       "      <td>528 people want to read</td>\n",
       "      <td>Novels</td>\n",
       "    </tr>\n",
       "    <tr>\n",
       "      <th>1544</th>\n",
       "      <td>9786140101722</td>\n",
       "      <td>18195482</td>\n",
       "      <td>قبضة ماء</td>\n",
       "      <td>https://images-na.ssl-images-amazon.com/images...</td>\n",
       "      <td>https://www.goodreads.com/book/show/18195482</td>\n",
       "      <td>First published January 1, 2012</td>\n",
       "      <td>7 ratings</td>\n",
       "      <td>3 reviews</td>\n",
       "      <td>2.14</td>\n",
       "      <td>0 (0%)</td>\n",
       "      <td>...</td>\n",
       "      <td>NaN</td>\n",
       "      <td>240 pages, Paperback</td>\n",
       "      <td>January 1, 2012 by دار الأمان - الرباط</td>\n",
       "      <td>Arabic</td>\n",
       "      <td>NaN</td>\n",
       "      <td>اسمهان الزعيم</td>\n",
       "      <td>Show all editions</td>\n",
       "      <td>2 people are currently reading</td>\n",
       "      <td>11 people want to read</td>\n",
       "      <td>NaN</td>\n",
       "    </tr>\n",
       "    <tr>\n",
       "      <th>1545</th>\n",
       "      <td>9789953872599</td>\n",
       "      <td>46199420-the-watchman</td>\n",
       "      <td>The Watchman</td>\n",
       "      <td>https://images-na.ssl-images-amazon.com/images...</td>\n",
       "      <td>https://www.goodreads.com/book/show/46199420-t...</td>\n",
       "      <td>First published February 27, 2007</td>\n",
       "      <td>25,553 ratings</td>\n",
       "      <td>1,178 reviews</td>\n",
       "      <td>4.12</td>\n",
       "      <td>9,684 (37%)</td>\n",
       "      <td>...</td>\n",
       "      <td>The Watchman</td>\n",
       "      <td>312 pages, Paperback</td>\n",
       "      <td>September 26, 2007 by Arab Scientific Publishers</td>\n",
       "      <td>NaN</td>\n",
       "      <td>Los Angeles, California (United States)</td>\n",
       "      <td>Robert Crais</td>\n",
       "      <td>Show all 65 editions</td>\n",
       "      <td>1,783 people are currently reading</td>\n",
       "      <td>13.1k people want to read</td>\n",
       "      <td>Mystery,Thriller,Fiction,Crime,Mystery Thrille...</td>\n",
       "    </tr>\n",
       "    <tr>\n",
       "      <th>1546</th>\n",
       "      <td>9781855165298</td>\n",
       "      <td>7748128</td>\n",
       "      <td>الأرجوحة</td>\n",
       "      <td>https://images-na.ssl-images-amazon.com/images...</td>\n",
       "      <td>https://www.goodreads.com/book/show/7748128</td>\n",
       "      <td>First published January 1, 2010</td>\n",
       "      <td>281 ratings</td>\n",
       "      <td>61 reviews</td>\n",
       "      <td>2.67</td>\n",
       "      <td>30 (10%)</td>\n",
       "      <td>...</td>\n",
       "      <td>الأرجوحة</td>\n",
       "      <td>159 pages, Paperback</td>\n",
       "      <td>January 1, 2010 by دار الساقي</td>\n",
       "      <td>Arabic</td>\n",
       "      <td>NaN</td>\n",
       "      <td>بدرية البشر</td>\n",
       "      <td>Show all 3 editions</td>\n",
       "      <td>14 people are currently reading</td>\n",
       "      <td>410 people want to read</td>\n",
       "      <td>Feminism</td>\n",
       "    </tr>\n",
       "    <tr>\n",
       "      <th>1547</th>\n",
       "      <td>9953294259</td>\n",
       "      <td>111573602</td>\n",
       "      <td>خيار الصفر</td>\n",
       "      <td>https://d15be2nos83ntc.cloudfront.net/images/n...</td>\n",
       "      <td>https://www.goodreads.com/book/show/111573602</td>\n",
       "      <td>NaN</td>\n",
       "      <td>0 ratings</td>\n",
       "      <td>0 reviews</td>\n",
       "      <td>0.00</td>\n",
       "      <td>0 (0%)</td>\n",
       "      <td>...</td>\n",
       "      <td>NaN</td>\n",
       "      <td>360 pages, Hardcover</td>\n",
       "      <td>الدار العربية للعلوم ناشرون</td>\n",
       "      <td>Arabic</td>\n",
       "      <td>NaN</td>\n",
       "      <td>unknown author</td>\n",
       "      <td>Show all editions</td>\n",
       "      <td>NaN</td>\n",
       "      <td>NaN</td>\n",
       "      <td>NaN</td>\n",
       "    </tr>\n",
       "  </tbody>\n",
       "</table>\n",
       "<p>5 rows × 28 columns</p>\n",
       "</div>"
      ],
      "text/plain": [
       "               ISBN           goodreads_id           title  \\\n",
       "1543  9786144258835               45538874  منتجع الساحرات   \n",
       "1544  9786140101722               18195482        قبضة ماء   \n",
       "1545  9789953872599  46199420-the-watchman    The Watchman   \n",
       "1546  9781855165298                7748128        الأرجوحة   \n",
       "1547     9953294259              111573602      خيار الصفر   \n",
       "\n",
       "                                                  image  \\\n",
       "1543  https://images-na.ssl-images-amazon.com/images...   \n",
       "1544  https://images-na.ssl-images-amazon.com/images...   \n",
       "1545  https://images-na.ssl-images-amazon.com/images...   \n",
       "1546  https://images-na.ssl-images-amazon.com/images...   \n",
       "1547  https://d15be2nos83ntc.cloudfront.net/images/n...   \n",
       "\n",
       "                                         goodreads_link  \\\n",
       "1543       https://www.goodreads.com/book/show/45538874   \n",
       "1544       https://www.goodreads.com/book/show/18195482   \n",
       "1545  https://www.goodreads.com/book/show/46199420-t...   \n",
       "1546        https://www.goodreads.com/book/show/7748128   \n",
       "1547      https://www.goodreads.com/book/show/111573602   \n",
       "\n",
       "                       publication_info number_of_rattings number_of_reviews  \\\n",
       "1543    First published January 1, 2015        300 ratings        98 reviews   \n",
       "1544    First published January 1, 2012          7 ratings         3 reviews   \n",
       "1545  First published February 27, 2007     25,553 ratings     1,178 reviews   \n",
       "1546    First published January 1, 2010        281 ratings        61 reviews   \n",
       "1547                                NaN          0 ratings         0 reviews   \n",
       "\n",
       "      book_rate number_of_5_stars_rating  ...  original_title  \\\n",
       "1543       3.13                  27 (9%)  ...  منتجع الساحرات   \n",
       "1544       2.14                   0 (0%)  ...             NaN   \n",
       "1545       4.12              9,684 (37%)  ...    The Watchman   \n",
       "1546       2.67                 30 (10%)  ...        الأرجوحة   \n",
       "1547       0.00                   0 (0%)  ...             NaN   \n",
       "\n",
       "               book_format                                         published  \\\n",
       "1543  175 pages, Paperback                                        دار الساقي   \n",
       "1544  240 pages, Paperback            January 1, 2012 by دار الأمان - الرباط   \n",
       "1545  312 pages, Paperback  September 26, 2007 by Arab Scientific Publishers   \n",
       "1546  159 pages, Paperback                     January 1, 2010 by دار الساقي   \n",
       "1547  360 pages, Hardcover                       الدار العربية للعلوم ناشرون   \n",
       "\n",
       "     language                                  setting  \\\n",
       "1543   Arabic                                      NaN   \n",
       "1544   Arabic                                      NaN   \n",
       "1545      NaN  Los Angeles, California (United States)   \n",
       "1546   Arabic                                      NaN   \n",
       "1547   Arabic                                      NaN   \n",
       "\n",
       "                  all_contributors    number_of_editions  \\\n",
       "1543  Amir Tag Elsir,أمير تاج السر   Show all 2 editions   \n",
       "1544                 اسمهان الزعيم     Show all editions   \n",
       "1545                  Robert Crais  Show all 65 editions   \n",
       "1546                   بدرية البشر   Show all 3 editions   \n",
       "1547                unknown author     Show all editions   \n",
       "\n",
       "                       currently_reading                    to_read  \\\n",
       "1543     17 people are currently reading    528 people want to read   \n",
       "1544      2 people are currently reading     11 people want to read   \n",
       "1545  1,783 people are currently reading  13.1k people want to read   \n",
       "1546     14 people are currently reading    410 people want to read   \n",
       "1547                                 NaN                        NaN   \n",
       "\n",
       "                                             all_genres  \n",
       "1543                                             Novels  \n",
       "1544                                                NaN  \n",
       "1545  Mystery,Thriller,Fiction,Crime,Mystery Thrille...  \n",
       "1546                                           Feminism  \n",
       "1547                                                NaN  \n",
       "\n",
       "[5 rows x 28 columns]"
      ]
     },
     "execution_count": 4,
     "metadata": {},
     "output_type": "execute_result"
    }
   ],
   "source": [
    "df.tail()"
   ]
  },
  {
   "cell_type": "code",
   "execution_count": 5,
   "id": "91366202",
   "metadata": {
    "scrolled": false
   },
   "outputs": [
    {
     "name": "stdout",
     "output_type": "stream",
     "text": [
      "<class 'pandas.core.frame.DataFrame'>\n",
      "Int64Index: 12705 entries, 0 to 1547\n",
      "Data columns (total 28 columns):\n",
      " #   Column                    Non-Null Count  Dtype  \n",
      "---  ------                    --------------  -----  \n",
      " 0   ISBN                      11460 non-null  object \n",
      " 1   goodreads_id              12705 non-null  object \n",
      " 2   title                     12704 non-null  object \n",
      " 3   image                     12704 non-null  object \n",
      " 4   goodreads_link            12705 non-null  object \n",
      " 5   publication_info          11783 non-null  object \n",
      " 6   number_of_rattings        12704 non-null  object \n",
      " 7   number_of_reviews         12704 non-null  object \n",
      " 8   book_rate                 12704 non-null  float64\n",
      " 9   number_of_5_stars_rating  12704 non-null  object \n",
      " 10  number_of_4_stars_rating  12704 non-null  object \n",
      " 11  number_of_3_stars_rating  12704 non-null  object \n",
      " 12  number_of_2_stars_rating  12704 non-null  object \n",
      " 13  number_of_1_stars_rating  12704 non-null  object \n",
      " 14  author_name               12704 non-null  object \n",
      " 15  author_link               12704 non-null  object \n",
      " 16  author_no_of_books        11092 non-null  object \n",
      " 17  author_followers          10605 non-null  object \n",
      " 18  original_title            7070 non-null   object \n",
      " 19  book_format               12191 non-null  object \n",
      " 20  published                 12180 non-null  object \n",
      " 21  language                  11166 non-null  object \n",
      " 22  setting                   1704 non-null   object \n",
      " 23  all_contributors          12704 non-null  object \n",
      " 24  number_of_editions        12269 non-null  object \n",
      " 25  currently_reading         9040 non-null   object \n",
      " 26  to_read                   10527 non-null  object \n",
      " 27  all_genres                6438 non-null   object \n",
      "dtypes: float64(1), object(27)\n",
      "memory usage: 2.8+ MB\n"
     ]
    }
   ],
   "source": [
    "df.info()"
   ]
  },
  {
   "cell_type": "code",
   "execution_count": 6,
   "id": "df819396",
   "metadata": {},
   "outputs": [
    {
     "data": {
      "text/html": [
       "<div>\n",
       "<style scoped>\n",
       "    .dataframe tbody tr th:only-of-type {\n",
       "        vertical-align: middle;\n",
       "    }\n",
       "\n",
       "    .dataframe tbody tr th {\n",
       "        vertical-align: top;\n",
       "    }\n",
       "\n",
       "    .dataframe thead th {\n",
       "        text-align: right;\n",
       "    }\n",
       "</style>\n",
       "<table border=\"1\" class=\"dataframe\">\n",
       "  <thead>\n",
       "    <tr style=\"text-align: right;\">\n",
       "      <th></th>\n",
       "      <th>ISBN</th>\n",
       "      <th>goodreads_id</th>\n",
       "      <th>title</th>\n",
       "      <th>image</th>\n",
       "      <th>goodreads_link</th>\n",
       "      <th>publication_info</th>\n",
       "      <th>number_of_rattings</th>\n",
       "      <th>number_of_reviews</th>\n",
       "      <th>book_rate</th>\n",
       "      <th>number_of_5_stars_rating</th>\n",
       "      <th>...</th>\n",
       "      <th>original_title</th>\n",
       "      <th>book_format</th>\n",
       "      <th>published</th>\n",
       "      <th>language</th>\n",
       "      <th>setting</th>\n",
       "      <th>all_contributors</th>\n",
       "      <th>number_of_editions</th>\n",
       "      <th>currently_reading</th>\n",
       "      <th>to_read</th>\n",
       "      <th>all_genres</th>\n",
       "    </tr>\n",
       "  </thead>\n",
       "  <tbody>\n",
       "    <tr>\n",
       "      <th>940</th>\n",
       "      <td>9771415153</td>\n",
       "      <td>6561626</td>\n",
       "      <td>الله</td>\n",
       "      <td>https://images-na.ssl-images-amazon.com/images...</td>\n",
       "      <td>https://www.goodreads.com/book/show/6561626</td>\n",
       "      <td>First published January 1, 1947</td>\n",
       "      <td>1,101 ratings</td>\n",
       "      <td>173 reviews</td>\n",
       "      <td>3.85</td>\n",
       "      <td>365 (33%)</td>\n",
       "      <td>...</td>\n",
       "      <td>الله</td>\n",
       "      <td>296 pages, Hardcover</td>\n",
       "      <td>January 1, 2009 by دار نهضة مصر للطباعة والنشر</td>\n",
       "      <td>Arabic</td>\n",
       "      <td>NaN</td>\n",
       "      <td>عباس محمود العقاد</td>\n",
       "      <td>Show all 19 editions</td>\n",
       "      <td>209 people are currently reading</td>\n",
       "      <td>3,532 people want to read</td>\n",
       "      <td>Religion,Philosophy,Islam,Nonfiction,God,Spiri...</td>\n",
       "    </tr>\n",
       "    <tr>\n",
       "      <th>1244</th>\n",
       "      <td>NaN</td>\n",
       "      <td>5607622</td>\n",
       "      <td>قمر على سمرقند</td>\n",
       "      <td>https://images-na.ssl-images-amazon.com/images...</td>\n",
       "      <td>https://www.goodreads.com/book/show/5607622</td>\n",
       "      <td>First published January 1, 2004</td>\n",
       "      <td>13,323 ratings</td>\n",
       "      <td>2,155 reviews</td>\n",
       "      <td>3.87</td>\n",
       "      <td>4,254 (31%)</td>\n",
       "      <td>...</td>\n",
       "      <td>قمر على سمرقند</td>\n",
       "      <td>713 pages, Paperback</td>\n",
       "      <td>مريت ، الشروق</td>\n",
       "      <td>Arabic</td>\n",
       "      <td>Samarkand (Uzbekistan), Bukhara (Uzbekistan), ...</td>\n",
       "      <td>محمد المنسي قنديل,Mohamed Mansi Qandil (a.k.a)</td>\n",
       "      <td>Show all 13 editions</td>\n",
       "      <td>1,484 people are currently reading</td>\n",
       "      <td>23.3k people want to read</td>\n",
       "      <td>Novels,Fiction,Literature,Historical Fiction,E...</td>\n",
       "    </tr>\n",
       "    <tr>\n",
       "      <th>1248</th>\n",
       "      <td>(ISBN10: 9770919306)</td>\n",
       "      <td>6016941</td>\n",
       "      <td>ماذا علمتني الحياة؟</td>\n",
       "      <td>https://images-na.ssl-images-amazon.com/images...</td>\n",
       "      <td>https://www.goodreads.com/book/show/6016941</td>\n",
       "      <td>First published January 1, 2007</td>\n",
       "      <td>3,597 ratings</td>\n",
       "      <td>498 reviews</td>\n",
       "      <td>3.98</td>\n",
       "      <td>1,245 (34%)</td>\n",
       "      <td>...</td>\n",
       "      <td>ماذا علمتني الحياة؟.. سيرة ذاتية</td>\n",
       "      <td>399 pages, Paperback</td>\n",
       "      <td>March 1, 2009 by دار الشروق</td>\n",
       "      <td>Arabic</td>\n",
       "      <td>NaN</td>\n",
       "      <td>جلال أمين</td>\n",
       "      <td>Show all 4 editions</td>\n",
       "      <td>482 people are currently reading</td>\n",
       "      <td>13k people want to read</td>\n",
       "      <td>Biography,Nonfiction,Autobiography,Literature,...</td>\n",
       "    </tr>\n",
       "    <tr>\n",
       "      <th>1249</th>\n",
       "      <td>NaN</td>\n",
       "      <td>3331793</td>\n",
       "      <td>حكومة الظل</td>\n",
       "      <td>https://images-na.ssl-images-amazon.com/images...</td>\n",
       "      <td>https://www.goodreads.com/book/show/3331793</td>\n",
       "      <td>First published January 1, 2006</td>\n",
       "      <td>8,542 ratings</td>\n",
       "      <td>1,362 reviews</td>\n",
       "      <td>3.89</td>\n",
       "      <td>3,039 (35%)</td>\n",
       "      <td>...</td>\n",
       "      <td>حكومة الظل</td>\n",
       "      <td>173 pages, Paperback</td>\n",
       "      <td>March 19, 2007 by الدار العربية للعلوم</td>\n",
       "      <td>Arabic</td>\n",
       "      <td>NaN</td>\n",
       "      <td>Monther Alkabbani</td>\n",
       "      <td>Show all 8 editions</td>\n",
       "      <td>327 people are currently reading</td>\n",
       "      <td>8,131 people want to read</td>\n",
       "      <td>Novels,Fiction,Literature,Politics,Mystery,His...</td>\n",
       "    </tr>\n",
       "    <tr>\n",
       "      <th>1283</th>\n",
       "      <td>NaN</td>\n",
       "      <td>5607754</td>\n",
       "      <td>انكسار الروح</td>\n",
       "      <td>https://images-na.ssl-images-amazon.com/images...</td>\n",
       "      <td>https://www.goodreads.com/book/show/5607754</td>\n",
       "      <td>First published March 1, 1992</td>\n",
       "      <td>3,166 ratings</td>\n",
       "      <td>602 reviews</td>\n",
       "      <td>3.59</td>\n",
       "      <td>679 (21%)</td>\n",
       "      <td>...</td>\n",
       "      <td>انكسار الروح</td>\n",
       "      <td>233 pages, Paperback</td>\n",
       "      <td>March 1, 1992 by دار الهلال</td>\n",
       "      <td>Arabic</td>\n",
       "      <td>NaN</td>\n",
       "      <td>محمد المنسي قنديل</td>\n",
       "      <td>Show all 5 editions</td>\n",
       "      <td>209 people are currently reading</td>\n",
       "      <td>4,947 people want to read</td>\n",
       "      <td>Novels,Historical Fiction,Literature,Romantic,...</td>\n",
       "    </tr>\n",
       "    <tr>\n",
       "      <th>1299</th>\n",
       "      <td>9780061122415 (ISBN10: 0061122416)</td>\n",
       "      <td>865.The_Alchemist</td>\n",
       "      <td>The Alchemist</td>\n",
       "      <td>https://images-na.ssl-images-amazon.com/images...</td>\n",
       "      <td>https://www.goodreads.com/book/show/865.The_Al...</td>\n",
       "      <td>First published January 1, 1988</td>\n",
       "      <td>2,738,933 ratings</td>\n",
       "      <td>106,364 reviews</td>\n",
       "      <td>3.90</td>\n",
       "      <td>1,071,435 (39%)</td>\n",
       "      <td>...</td>\n",
       "      <td>O Alquimista</td>\n",
       "      <td>197 pages, Paperback</td>\n",
       "      <td>May 1, 1993 by HarperCollins</td>\n",
       "      <td>English</td>\n",
       "      <td>Egypt, Sahara Desert, Tangier (Morocco), Andal...</td>\n",
       "      <td>Paulo Coelho,Alan R. Clarke (Translator)</td>\n",
       "      <td>Show all 738 editions</td>\n",
       "      <td>73k people are currently reading</td>\n",
       "      <td>2m people want to read</td>\n",
       "      <td>Fiction,Classics,Fantasy,Philosophy,Novels,Spi...</td>\n",
       "    </tr>\n",
       "    <tr>\n",
       "      <th>1307</th>\n",
       "      <td>NaN</td>\n",
       "      <td>11758186</td>\n",
       "      <td>زمن الضباع</td>\n",
       "      <td>https://images-na.ssl-images-amazon.com/images...</td>\n",
       "      <td>https://www.goodreads.com/book/show/11758186</td>\n",
       "      <td>First published December 21, 2010</td>\n",
       "      <td>2,123 ratings</td>\n",
       "      <td>158 reviews</td>\n",
       "      <td>3.93</td>\n",
       "      <td>641 (30%)</td>\n",
       "      <td>...</td>\n",
       "      <td>زمن الضباع</td>\n",
       "      <td>248 pages, Paperback</td>\n",
       "      <td>June 8, 2011 by مكتبة الدار العربية للكتاب</td>\n",
       "      <td>Arabic</td>\n",
       "      <td>NaN</td>\n",
       "      <td>أشرف العشماوي</td>\n",
       "      <td>Show all 6 editions</td>\n",
       "      <td>21 people are currently reading</td>\n",
       "      <td>2,948 people want to read</td>\n",
       "      <td>Novels</td>\n",
       "    </tr>\n",
       "    <tr>\n",
       "      <th>1370</th>\n",
       "      <td>NaN</td>\n",
       "      <td>7285778</td>\n",
       "      <td>كشري مصر</td>\n",
       "      <td>https://images-na.ssl-images-amazon.com/images...</td>\n",
       "      <td>https://www.goodreads.com/book/show/7285778</td>\n",
       "      <td>First published January 1, 2008</td>\n",
       "      <td>809 ratings</td>\n",
       "      <td>137 reviews</td>\n",
       "      <td>3.56</td>\n",
       "      <td>149 (18%)</td>\n",
       "      <td>...</td>\n",
       "      <td>كشري مصر</td>\n",
       "      <td>NaN</td>\n",
       "      <td>Book House</td>\n",
       "      <td>NaN</td>\n",
       "      <td>NaN</td>\n",
       "      <td>حسن كمال</td>\n",
       "      <td>Show all 4 editions</td>\n",
       "      <td>16 people are currently reading</td>\n",
       "      <td>978 people want to read</td>\n",
       "      <td>Short Stories,Fiction,Audiobook,Novels</td>\n",
       "    </tr>\n",
       "    <tr>\n",
       "      <th>1389</th>\n",
       "      <td>9771409174</td>\n",
       "      <td>7712971</td>\n",
       "      <td>سارة</td>\n",
       "      <td>https://images-na.ssl-images-amazon.com/images...</td>\n",
       "      <td>https://www.goodreads.com/book/show/7712971</td>\n",
       "      <td>First published January 1, 1938</td>\n",
       "      <td>3,821 ratings</td>\n",
       "      <td>681 reviews</td>\n",
       "      <td>3.21</td>\n",
       "      <td>644 (16%)</td>\n",
       "      <td>...</td>\n",
       "      <td>سارة</td>\n",
       "      <td>164 pages, Hardcover</td>\n",
       "      <td>January 1, 2008 by نهضة مصر</td>\n",
       "      <td>Arabic</td>\n",
       "      <td>Egypt</td>\n",
       "      <td>عباس محمود العقاد</td>\n",
       "      <td>Show all 31 editions</td>\n",
       "      <td>443 people are currently reading</td>\n",
       "      <td>5,213 people want to read</td>\n",
       "      <td>Novels,Fiction,Literature,Classics,Audiobook</td>\n",
       "    </tr>\n",
       "    <tr>\n",
       "      <th>1427</th>\n",
       "      <td>NaN</td>\n",
       "      <td>24482936</td>\n",
       "      <td>كلاب الراعي</td>\n",
       "      <td>https://images-na.ssl-images-amazon.com/images...</td>\n",
       "      <td>https://www.goodreads.com/book/show/24482936</td>\n",
       "      <td>First published January 13, 2015</td>\n",
       "      <td>6,626 ratings</td>\n",
       "      <td>674 reviews</td>\n",
       "      <td>4.06</td>\n",
       "      <td>1,475 (22%)</td>\n",
       "      <td>...</td>\n",
       "      <td>NaN</td>\n",
       "      <td>355 pages, Paperback</td>\n",
       "      <td>January 13, 2015 by الدار المصرية اللبنانية</td>\n",
       "      <td>NaN</td>\n",
       "      <td>NaN</td>\n",
       "      <td>أشرف العشماوي</td>\n",
       "      <td>Show all 10 editions</td>\n",
       "      <td>208 people are currently reading</td>\n",
       "      <td>3,912 people want to read</td>\n",
       "      <td>History,Literature,Egypt,Audiobook,Historical</td>\n",
       "    </tr>\n",
       "    <tr>\n",
       "      <th>1485</th>\n",
       "      <td>NaN</td>\n",
       "      <td>17310190</td>\n",
       "      <td>أبو عمر المصري</td>\n",
       "      <td>https://images-na.ssl-images-amazon.com/images...</td>\n",
       "      <td>https://www.goodreads.com/book/show/17310190</td>\n",
       "      <td>Published January 1, 2012</td>\n",
       "      <td>1,946 ratings</td>\n",
       "      <td>319 reviews</td>\n",
       "      <td>3.83</td>\n",
       "      <td>481 (24%)</td>\n",
       "      <td>...</td>\n",
       "      <td>NaN</td>\n",
       "      <td>385 pages, Paperback</td>\n",
       "      <td>January 1, 2012 by دار الشروق</td>\n",
       "      <td>Arabic</td>\n",
       "      <td>NaN</td>\n",
       "      <td>عزالدين شكري فشير</td>\n",
       "      <td>Show all 5 editions</td>\n",
       "      <td>88 people are currently reading</td>\n",
       "      <td>2,629 people want to read</td>\n",
       "      <td>Novels,Literature,Fiction</td>\n",
       "    </tr>\n",
       "    <tr>\n",
       "      <th>1497</th>\n",
       "      <td>NaN</td>\n",
       "      <td>6604869</td>\n",
       "      <td>دموع على سفوح المجد</td>\n",
       "      <td>https://images-na.ssl-images-amazon.com/images...</td>\n",
       "      <td>https://www.goodreads.com/book/show/6604869</td>\n",
       "      <td>First published January 1, 1984</td>\n",
       "      <td>2,866 ratings</td>\n",
       "      <td>392 reviews</td>\n",
       "      <td>3.71</td>\n",
       "      <td>959 (33%)</td>\n",
       "      <td>...</td>\n",
       "      <td>دموع على سفوح المجد</td>\n",
       "      <td>296 pages, Paperback</td>\n",
       "      <td>December 1, 2003 by دار القلم للطباعة والنشر و...</td>\n",
       "      <td>Arabic</td>\n",
       "      <td>NaN</td>\n",
       "      <td>د.عماد زكي</td>\n",
       "      <td>Show all 8 editions</td>\n",
       "      <td>95 people are currently reading</td>\n",
       "      <td>1,584 people want to read</td>\n",
       "      <td>Novels,Literature,Fiction</td>\n",
       "    </tr>\n",
       "    <tr>\n",
       "      <th>1510</th>\n",
       "      <td>NaN</td>\n",
       "      <td>7613.Animal_Farm</td>\n",
       "      <td>Animal Farm</td>\n",
       "      <td>https://images-na.ssl-images-amazon.com/images...</td>\n",
       "      <td>https://www.goodreads.com/book/show/7613.Anima...</td>\n",
       "      <td>First published August 17, 1945</td>\n",
       "      <td>3,509,298 ratings</td>\n",
       "      <td>81,284 reviews</td>\n",
       "      <td>3.98</td>\n",
       "      <td>1,305,904 (37%)</td>\n",
       "      <td>...</td>\n",
       "      <td>NaN</td>\n",
       "      <td>NaN</td>\n",
       "      <td>NaN</td>\n",
       "      <td>NaN</td>\n",
       "      <td>NaN</td>\n",
       "      <td>George Orwell,Chris Mould (Illustrator),Τζωρτζ...</td>\n",
       "      <td>NaN</td>\n",
       "      <td>NaN</td>\n",
       "      <td>NaN</td>\n",
       "      <td>Classics,Fiction,Dystopia,Fantasy,Politics,Lit...</td>\n",
       "    </tr>\n",
       "    <tr>\n",
       "      <th>1542</th>\n",
       "      <td>(ISBN10: 9770187852)</td>\n",
       "      <td>7670872</td>\n",
       "      <td>حياتي</td>\n",
       "      <td>https://images-na.ssl-images-amazon.com/images...</td>\n",
       "      <td>https://www.goodreads.com/book/show/7670872</td>\n",
       "      <td>First published January 1, 1950</td>\n",
       "      <td>2,026 ratings</td>\n",
       "      <td>435 reviews</td>\n",
       "      <td>4.12</td>\n",
       "      <td>818 (40%)</td>\n",
       "      <td>...</td>\n",
       "      <td>حياتي</td>\n",
       "      <td>368 pages, Paperback</td>\n",
       "      <td>January 1, 2003 by الهيئة المصرية العامة للكتاب</td>\n",
       "      <td>Arabic</td>\n",
       "      <td>Egypt</td>\n",
       "      <td>أحمد أمين</td>\n",
       "      <td>Show all 17 editions</td>\n",
       "      <td>262 people are currently reading</td>\n",
       "      <td>4,371 people want to read</td>\n",
       "      <td>Biography,Nonfiction,Autobiography,Classics,Hi...</td>\n",
       "    </tr>\n",
       "    <tr>\n",
       "      <th>1588</th>\n",
       "      <td>9781912240166 (ISBN10: 1912240165)</td>\n",
       "      <td>39653535-celestial-bodies</td>\n",
       "      <td>Celestial Bodies</td>\n",
       "      <td>https://images-na.ssl-images-amazon.com/images...</td>\n",
       "      <td>https://www.goodreads.com/book/show/39653535-c...</td>\n",
       "      <td>First published January 1, 2010</td>\n",
       "      <td>13,519 ratings</td>\n",
       "      <td>2,382 reviews</td>\n",
       "      <td>3.42</td>\n",
       "      <td>1,719 (12%)</td>\n",
       "      <td>...</td>\n",
       "      <td>سيدات القمر</td>\n",
       "      <td>243 pages, Paperback</td>\n",
       "      <td>June 21, 2018 by Sandstone Press</td>\n",
       "      <td>English</td>\n",
       "      <td>Oman, Middle East</td>\n",
       "      <td>Jokha Alharthi,Marilyn Booth (Translator)</td>\n",
       "      <td>Show all 61 editions</td>\n",
       "      <td>1,689 people are currently reading</td>\n",
       "      <td>22.4k people want to read</td>\n",
       "      <td>Fiction,Historical Fiction,Literary Fiction,No...</td>\n",
       "    </tr>\n",
       "    <tr>\n",
       "      <th>1591</th>\n",
       "      <td>NaN</td>\n",
       "      <td>6765874</td>\n",
       "      <td>لا</td>\n",
       "      <td>https://images-na.ssl-images-amazon.com/images...</td>\n",
       "      <td>https://www.goodreads.com/book/show/6765874</td>\n",
       "      <td>First published January 1, 1977</td>\n",
       "      <td>199 ratings</td>\n",
       "      <td>19 reviews</td>\n",
       "      <td>3.87</td>\n",
       "      <td>56 (28%)</td>\n",
       "      <td>...</td>\n",
       "      <td>لا</td>\n",
       "      <td>927 pages, Hardcover</td>\n",
       "      <td>January 1, 1985 by العصر الحديث للنشر</td>\n",
       "      <td>Arabic</td>\n",
       "      <td>NaN</td>\n",
       "      <td>مصطفى أمين</td>\n",
       "      <td>Show all 2 editions</td>\n",
       "      <td>11 people are currently reading</td>\n",
       "      <td>415 people want to read</td>\n",
       "      <td>NaN</td>\n",
       "    </tr>\n",
       "    <tr>\n",
       "      <th>1638</th>\n",
       "      <td>NaN</td>\n",
       "      <td>15714287</td>\n",
       "      <td>سرقات مشروعة</td>\n",
       "      <td>https://images-na.ssl-images-amazon.com/images...</td>\n",
       "      <td>https://www.goodreads.com/book/show/15714287</td>\n",
       "      <td>First published December 29, 2011</td>\n",
       "      <td>700 ratings</td>\n",
       "      <td>66 reviews</td>\n",
       "      <td>4.22</td>\n",
       "      <td>344 (49%)</td>\n",
       "      <td>...</td>\n",
       "      <td>سرقات مشروعة</td>\n",
       "      <td>Paperback</td>\n",
       "      <td>الدار المصرية اللبنانية</td>\n",
       "      <td>Arabic</td>\n",
       "      <td>NaN</td>\n",
       "      <td>أشرف العشماوي</td>\n",
       "      <td>Show all 3 editions</td>\n",
       "      <td>39 people are currently reading</td>\n",
       "      <td>3,424 people want to read</td>\n",
       "      <td>History,Nonfiction,Egypt</td>\n",
       "    </tr>\n",
       "    <tr>\n",
       "      <th>1657</th>\n",
       "      <td>NaN</td>\n",
       "      <td>5470.1984</td>\n",
       "      <td>1984</td>\n",
       "      <td>https://images-na.ssl-images-amazon.com/images...</td>\n",
       "      <td>https://www.goodreads.com/book/show/5470.1984</td>\n",
       "      <td>First published June 8, 1949</td>\n",
       "      <td>4,119,828 ratings</td>\n",
       "      <td>98,346 reviews</td>\n",
       "      <td>4.19</td>\n",
       "      <td>1,949,299 (47%)</td>\n",
       "      <td>...</td>\n",
       "      <td>Nineteen Eighty-Four</td>\n",
       "      <td>328 pages, Mass Market Paperback</td>\n",
       "      <td>July 1, 1950 by New American Library</td>\n",
       "      <td>English</td>\n",
       "      <td>NaN</td>\n",
       "      <td>George Orwell</td>\n",
       "      <td>Show all 2966 editions</td>\n",
       "      <td>166k people are currently reading</td>\n",
       "      <td>2m people want to read</td>\n",
       "      <td>Classics,Fiction,Science Fiction,Dystopia,Lite...</td>\n",
       "    </tr>\n",
       "    <tr>\n",
       "      <th>1678</th>\n",
       "      <td>NaN</td>\n",
       "      <td>13553446</td>\n",
       "      <td>قصص الحيوان في القرآن</td>\n",
       "      <td>https://images-na.ssl-images-amazon.com/images...</td>\n",
       "      <td>https://www.goodreads.com/book/show/13553446</td>\n",
       "      <td>First published January 1, 1987</td>\n",
       "      <td>707 ratings</td>\n",
       "      <td>115 reviews</td>\n",
       "      <td>4.24</td>\n",
       "      <td>361 (51%)</td>\n",
       "      <td>...</td>\n",
       "      <td>قصص الحيوان في القرآن</td>\n",
       "      <td>215 pages, Hardcover</td>\n",
       "      <td>January 1, 1987 by دار الريان للتراث</td>\n",
       "      <td>Arabic</td>\n",
       "      <td>NaN</td>\n",
       "      <td>أحمد بهجت</td>\n",
       "      <td>Show all 8 editions</td>\n",
       "      <td>79 people are currently reading</td>\n",
       "      <td>990 people want to read</td>\n",
       "      <td>Religion,Islam,Media Tie In,Literature,Nonfict...</td>\n",
       "    </tr>\n",
       "    <tr>\n",
       "      <th>1720</th>\n",
       "      <td>NaN</td>\n",
       "      <td>12566364</td>\n",
       "      <td>قصص الأنبياء</td>\n",
       "      <td>https://images-na.ssl-images-amazon.com/images...</td>\n",
       "      <td>https://www.goodreads.com/book/show/12566364</td>\n",
       "      <td>First published January 1, 2002</td>\n",
       "      <td>189 ratings</td>\n",
       "      <td>12 reviews</td>\n",
       "      <td>4.20</td>\n",
       "      <td>110 (58%)</td>\n",
       "      <td>...</td>\n",
       "      <td>NaN</td>\n",
       "      <td>701 pages, Hardcover</td>\n",
       "      <td>NaN</td>\n",
       "      <td>Arabic</td>\n",
       "      <td>NaN</td>\n",
       "      <td>محمود المصري</td>\n",
       "      <td>Show all editions</td>\n",
       "      <td>61 people are currently reading</td>\n",
       "      <td>785 people want to read</td>\n",
       "      <td>Religion</td>\n",
       "    </tr>\n",
       "    <tr>\n",
       "      <th>1745</th>\n",
       "      <td>(ISBN10: 9953366195)</td>\n",
       "      <td>15161288</td>\n",
       "      <td>الضوء الأزرق</td>\n",
       "      <td>https://images-na.ssl-images-amazon.com/images...</td>\n",
       "      <td>https://www.goodreads.com/book/show/15161288</td>\n",
       "      <td>First published January 1, 2001</td>\n",
       "      <td>4,728 ratings</td>\n",
       "      <td>1,083 reviews</td>\n",
       "      <td>3.96</td>\n",
       "      <td>1,848 (39%)</td>\n",
       "      <td>...</td>\n",
       "      <td>الضوء الأزرق</td>\n",
       "      <td>182 pages</td>\n",
       "      <td>January 1, 2004 by المؤسسة العربية للدراسات وا...</td>\n",
       "      <td>Arabic</td>\n",
       "      <td>NaN</td>\n",
       "      <td>حسين البرغوثي</td>\n",
       "      <td>Show all 11 editions</td>\n",
       "      <td>337 people are currently reading</td>\n",
       "      <td>5,927 people want to read</td>\n",
       "      <td>Biography,Nonfiction,Literature,Philosophy,Aud...</td>\n",
       "    </tr>\n",
       "    <tr>\n",
       "      <th>1775</th>\n",
       "      <td>(ISBN10: 9770914878)</td>\n",
       "      <td>7044450</td>\n",
       "      <td>التنظيم السري</td>\n",
       "      <td>https://images-na.ssl-images-amazon.com/images...</td>\n",
       "      <td>https://www.goodreads.com/book/show/7044450</td>\n",
       "      <td>First published January 1, 1984</td>\n",
       "      <td>937 ratings</td>\n",
       "      <td>118 reviews</td>\n",
       "      <td>3.51</td>\n",
       "      <td>152 (16%)</td>\n",
       "      <td>...</td>\n",
       "      <td>التنظيم السري</td>\n",
       "      <td>172 pages</td>\n",
       "      <td>January 1, 2006 by دار الشروق</td>\n",
       "      <td>Arabic</td>\n",
       "      <td>NaN</td>\n",
       "      <td>Naguib Mahfouz,نجيب محفوظ</td>\n",
       "      <td>Show all 9 editions</td>\n",
       "      <td>55 people are currently reading</td>\n",
       "      <td>1,203 people want to read</td>\n",
       "      <td>Short Stories,Novels,Fiction,Literature</td>\n",
       "    </tr>\n",
       "    <tr>\n",
       "      <th>1779</th>\n",
       "      <td>(ISBN10: 9770915777)</td>\n",
       "      <td>7044433</td>\n",
       "      <td>صباح الورد</td>\n",
       "      <td>https://images-na.ssl-images-amazon.com/images...</td>\n",
       "      <td>https://www.goodreads.com/book/show/7044433</td>\n",
       "      <td>First published January 1, 1987</td>\n",
       "      <td>950 ratings</td>\n",
       "      <td>124 reviews</td>\n",
       "      <td>3.55</td>\n",
       "      <td>161 (16%)</td>\n",
       "      <td>...</td>\n",
       "      <td>صباح الورد</td>\n",
       "      <td>152 pages</td>\n",
       "      <td>January 1, 2006 by دار الشروق</td>\n",
       "      <td>Arabic</td>\n",
       "      <td>Egypt</td>\n",
       "      <td>Naguib Mahfouz,Naguib Mahfouz</td>\n",
       "      <td>Show all 9 editions</td>\n",
       "      <td>40 people are currently reading</td>\n",
       "      <td>1,192 people want to read</td>\n",
       "      <td>Short Stories,Novels,Fiction,Literature</td>\n",
       "    </tr>\n",
       "    <tr>\n",
       "      <th>1783</th>\n",
       "      <td>(ISBN10: 977091584X)</td>\n",
       "      <td>6610264</td>\n",
       "      <td>الباقي من الزمن ساعة</td>\n",
       "      <td>https://images-na.ssl-images-amazon.com/images...</td>\n",
       "      <td>https://www.goodreads.com/book/show/6610264</td>\n",
       "      <td>First published January 1, 1982</td>\n",
       "      <td>2,171 ratings</td>\n",
       "      <td>335 reviews</td>\n",
       "      <td>3.63</td>\n",
       "      <td>408 (18%)</td>\n",
       "      <td>...</td>\n",
       "      <td>الباقي من الزمن ساعة</td>\n",
       "      <td>151 pages, Paperback</td>\n",
       "      <td>January 1, 2006 by دار الشروق</td>\n",
       "      <td>Arabic</td>\n",
       "      <td>NaN</td>\n",
       "      <td>Naguib Mahfouz,Naguib Mahfouz</td>\n",
       "      <td>Show all 20 editions</td>\n",
       "      <td>71 people are currently reading</td>\n",
       "      <td>2,332 people want to read</td>\n",
       "      <td>Fiction,Novels,Literature,Egypt,Egyptian Liter...</td>\n",
       "    </tr>\n",
       "    <tr>\n",
       "      <th>1794</th>\n",
       "      <td>(ISBN10: 9770916064)</td>\n",
       "      <td>6610283</td>\n",
       "      <td>الفجر الكاذب</td>\n",
       "      <td>https://images-na.ssl-images-amazon.com/images...</td>\n",
       "      <td>https://www.goodreads.com/book/show/6610283</td>\n",
       "      <td>First published January 1, 1988</td>\n",
       "      <td>860 ratings</td>\n",
       "      <td>135 reviews</td>\n",
       "      <td>3.53</td>\n",
       "      <td>133 (15%)</td>\n",
       "      <td>...</td>\n",
       "      <td>الفجر الكاذب</td>\n",
       "      <td>227 pages, Paperback</td>\n",
       "      <td>January 1, 2009 by دار الشروق</td>\n",
       "      <td>Arabic</td>\n",
       "      <td>NaN</td>\n",
       "      <td>Naguib Mahfouz,Naguib Mahfouz</td>\n",
       "      <td>Show all 10 editions</td>\n",
       "      <td>53 people are currently reading</td>\n",
       "      <td>1,226 people want to read</td>\n",
       "      <td>Short Stories,Fiction,Literature</td>\n",
       "    </tr>\n",
       "  </tbody>\n",
       "</table>\n",
       "<p>25 rows × 28 columns</p>\n",
       "</div>"
      ],
      "text/plain": [
       "                                    ISBN               goodreads_id  \\\n",
       "940                          9771415153                     6561626   \n",
       "1244                                 NaN                    5607622   \n",
       "1248                (ISBN10: 9770919306)                    6016941   \n",
       "1249                                 NaN                    3331793   \n",
       "1283                                 NaN                    5607754   \n",
       "1299  9780061122415 (ISBN10: 0061122416)          865.The_Alchemist   \n",
       "1307                                 NaN                   11758186   \n",
       "1370                                 NaN                    7285778   \n",
       "1389                         9771409174                     7712971   \n",
       "1427                                 NaN                   24482936   \n",
       "1485                                 NaN                   17310190   \n",
       "1497                                 NaN                    6604869   \n",
       "1510                                 NaN           7613.Animal_Farm   \n",
       "1542                (ISBN10: 9770187852)                    7670872   \n",
       "1588  9781912240166 (ISBN10: 1912240165)  39653535-celestial-bodies   \n",
       "1591                                 NaN                    6765874   \n",
       "1638                                 NaN                   15714287   \n",
       "1657                                 NaN                  5470.1984   \n",
       "1678                                 NaN                   13553446   \n",
       "1720                                 NaN                   12566364   \n",
       "1745                (ISBN10: 9953366195)                   15161288   \n",
       "1775                (ISBN10: 9770914878)                    7044450   \n",
       "1779                (ISBN10: 9770915777)                    7044433   \n",
       "1783                (ISBN10: 977091584X)                    6610264   \n",
       "1794                (ISBN10: 9770916064)                    6610283   \n",
       "\n",
       "                      title  \\\n",
       "940                    الله   \n",
       "1244         قمر على سمرقند   \n",
       "1248    ماذا علمتني الحياة؟   \n",
       "1249             حكومة الظل   \n",
       "1283           انكسار الروح   \n",
       "1299          The Alchemist   \n",
       "1307             زمن الضباع   \n",
       "1370               كشري مصر   \n",
       "1389                   سارة   \n",
       "1427            كلاب الراعي   \n",
       "1485         أبو عمر المصري   \n",
       "1497    دموع على سفوح المجد   \n",
       "1510            Animal Farm   \n",
       "1542                  حياتي   \n",
       "1588       Celestial Bodies   \n",
       "1591                     لا   \n",
       "1638           سرقات مشروعة   \n",
       "1657                   1984   \n",
       "1678  قصص الحيوان في القرآن   \n",
       "1720           قصص الأنبياء   \n",
       "1745           الضوء الأزرق   \n",
       "1775          التنظيم السري   \n",
       "1779             صباح الورد   \n",
       "1783   الباقي من الزمن ساعة   \n",
       "1794           الفجر الكاذب   \n",
       "\n",
       "                                                  image  \\\n",
       "940   https://images-na.ssl-images-amazon.com/images...   \n",
       "1244  https://images-na.ssl-images-amazon.com/images...   \n",
       "1248  https://images-na.ssl-images-amazon.com/images...   \n",
       "1249  https://images-na.ssl-images-amazon.com/images...   \n",
       "1283  https://images-na.ssl-images-amazon.com/images...   \n",
       "1299  https://images-na.ssl-images-amazon.com/images...   \n",
       "1307  https://images-na.ssl-images-amazon.com/images...   \n",
       "1370  https://images-na.ssl-images-amazon.com/images...   \n",
       "1389  https://images-na.ssl-images-amazon.com/images...   \n",
       "1427  https://images-na.ssl-images-amazon.com/images...   \n",
       "1485  https://images-na.ssl-images-amazon.com/images...   \n",
       "1497  https://images-na.ssl-images-amazon.com/images...   \n",
       "1510  https://images-na.ssl-images-amazon.com/images...   \n",
       "1542  https://images-na.ssl-images-amazon.com/images...   \n",
       "1588  https://images-na.ssl-images-amazon.com/images...   \n",
       "1591  https://images-na.ssl-images-amazon.com/images...   \n",
       "1638  https://images-na.ssl-images-amazon.com/images...   \n",
       "1657  https://images-na.ssl-images-amazon.com/images...   \n",
       "1678  https://images-na.ssl-images-amazon.com/images...   \n",
       "1720  https://images-na.ssl-images-amazon.com/images...   \n",
       "1745  https://images-na.ssl-images-amazon.com/images...   \n",
       "1775  https://images-na.ssl-images-amazon.com/images...   \n",
       "1779  https://images-na.ssl-images-amazon.com/images...   \n",
       "1783  https://images-na.ssl-images-amazon.com/images...   \n",
       "1794  https://images-na.ssl-images-amazon.com/images...   \n",
       "\n",
       "                                         goodreads_link  \\\n",
       "940         https://www.goodreads.com/book/show/6561626   \n",
       "1244        https://www.goodreads.com/book/show/5607622   \n",
       "1248        https://www.goodreads.com/book/show/6016941   \n",
       "1249        https://www.goodreads.com/book/show/3331793   \n",
       "1283        https://www.goodreads.com/book/show/5607754   \n",
       "1299  https://www.goodreads.com/book/show/865.The_Al...   \n",
       "1307       https://www.goodreads.com/book/show/11758186   \n",
       "1370        https://www.goodreads.com/book/show/7285778   \n",
       "1389        https://www.goodreads.com/book/show/7712971   \n",
       "1427       https://www.goodreads.com/book/show/24482936   \n",
       "1485       https://www.goodreads.com/book/show/17310190   \n",
       "1497        https://www.goodreads.com/book/show/6604869   \n",
       "1510  https://www.goodreads.com/book/show/7613.Anima...   \n",
       "1542        https://www.goodreads.com/book/show/7670872   \n",
       "1588  https://www.goodreads.com/book/show/39653535-c...   \n",
       "1591        https://www.goodreads.com/book/show/6765874   \n",
       "1638       https://www.goodreads.com/book/show/15714287   \n",
       "1657      https://www.goodreads.com/book/show/5470.1984   \n",
       "1678       https://www.goodreads.com/book/show/13553446   \n",
       "1720       https://www.goodreads.com/book/show/12566364   \n",
       "1745       https://www.goodreads.com/book/show/15161288   \n",
       "1775        https://www.goodreads.com/book/show/7044450   \n",
       "1779        https://www.goodreads.com/book/show/7044433   \n",
       "1783        https://www.goodreads.com/book/show/6610264   \n",
       "1794        https://www.goodreads.com/book/show/6610283   \n",
       "\n",
       "                       publication_info number_of_rattings number_of_reviews  \\\n",
       "940     First published January 1, 1947      1,101 ratings       173 reviews   \n",
       "1244    First published January 1, 2004     13,323 ratings     2,155 reviews   \n",
       "1248    First published January 1, 2007      3,597 ratings       498 reviews   \n",
       "1249    First published January 1, 2006      8,542 ratings     1,362 reviews   \n",
       "1283      First published March 1, 1992      3,166 ratings       602 reviews   \n",
       "1299    First published January 1, 1988  2,738,933 ratings   106,364 reviews   \n",
       "1307  First published December 21, 2010      2,123 ratings       158 reviews   \n",
       "1370    First published January 1, 2008        809 ratings       137 reviews   \n",
       "1389    First published January 1, 1938      3,821 ratings       681 reviews   \n",
       "1427   First published January 13, 2015      6,626 ratings       674 reviews   \n",
       "1485          Published January 1, 2012      1,946 ratings       319 reviews   \n",
       "1497    First published January 1, 1984      2,866 ratings       392 reviews   \n",
       "1510    First published August 17, 1945  3,509,298 ratings    81,284 reviews   \n",
       "1542    First published January 1, 1950      2,026 ratings       435 reviews   \n",
       "1588    First published January 1, 2010     13,519 ratings     2,382 reviews   \n",
       "1591    First published January 1, 1977        199 ratings        19 reviews   \n",
       "1638  First published December 29, 2011        700 ratings        66 reviews   \n",
       "1657       First published June 8, 1949  4,119,828 ratings    98,346 reviews   \n",
       "1678    First published January 1, 1987        707 ratings       115 reviews   \n",
       "1720    First published January 1, 2002        189 ratings        12 reviews   \n",
       "1745    First published January 1, 2001      4,728 ratings     1,083 reviews   \n",
       "1775    First published January 1, 1984        937 ratings       118 reviews   \n",
       "1779    First published January 1, 1987        950 ratings       124 reviews   \n",
       "1783    First published January 1, 1982      2,171 ratings       335 reviews   \n",
       "1794    First published January 1, 1988        860 ratings       135 reviews   \n",
       "\n",
       "      book_rate number_of_5_stars_rating  ...  \\\n",
       "940        3.85                365 (33%)  ...   \n",
       "1244       3.87              4,254 (31%)  ...   \n",
       "1248       3.98              1,245 (34%)  ...   \n",
       "1249       3.89              3,039 (35%)  ...   \n",
       "1283       3.59                679 (21%)  ...   \n",
       "1299       3.90          1,071,435 (39%)  ...   \n",
       "1307       3.93                641 (30%)  ...   \n",
       "1370       3.56                149 (18%)  ...   \n",
       "1389       3.21                644 (16%)  ...   \n",
       "1427       4.06              1,475 (22%)  ...   \n",
       "1485       3.83                481 (24%)  ...   \n",
       "1497       3.71                959 (33%)  ...   \n",
       "1510       3.98          1,305,904 (37%)  ...   \n",
       "1542       4.12                818 (40%)  ...   \n",
       "1588       3.42              1,719 (12%)  ...   \n",
       "1591       3.87                 56 (28%)  ...   \n",
       "1638       4.22                344 (49%)  ...   \n",
       "1657       4.19          1,949,299 (47%)  ...   \n",
       "1678       4.24                361 (51%)  ...   \n",
       "1720       4.20                110 (58%)  ...   \n",
       "1745       3.96              1,848 (39%)  ...   \n",
       "1775       3.51                152 (16%)  ...   \n",
       "1779       3.55                161 (16%)  ...   \n",
       "1783       3.63                408 (18%)  ...   \n",
       "1794       3.53                133 (15%)  ...   \n",
       "\n",
       "                        original_title                       book_format  \\\n",
       "940                               الله              296 pages, Hardcover   \n",
       "1244                    قمر على سمرقند              713 pages, Paperback   \n",
       "1248  ماذا علمتني الحياة؟.. سيرة ذاتية              399 pages, Paperback   \n",
       "1249                        حكومة الظل              173 pages, Paperback   \n",
       "1283                      انكسار الروح              233 pages, Paperback   \n",
       "1299                      O Alquimista              197 pages, Paperback   \n",
       "1307                        زمن الضباع              248 pages, Paperback   \n",
       "1370                          كشري مصر                               NaN   \n",
       "1389                              سارة              164 pages, Hardcover   \n",
       "1427                               NaN              355 pages, Paperback   \n",
       "1485                               NaN              385 pages, Paperback   \n",
       "1497               دموع على سفوح المجد              296 pages, Paperback   \n",
       "1510                               NaN                               NaN   \n",
       "1542                             حياتي              368 pages, Paperback   \n",
       "1588                       سيدات القمر              243 pages, Paperback   \n",
       "1591                                لا              927 pages, Hardcover   \n",
       "1638                      سرقات مشروعة                         Paperback   \n",
       "1657              Nineteen Eighty-Four  328 pages, Mass Market Paperback   \n",
       "1678             قصص الحيوان في القرآن              215 pages, Hardcover   \n",
       "1720                               NaN              701 pages, Hardcover   \n",
       "1745                      الضوء الأزرق                         182 pages   \n",
       "1775                     التنظيم السري                         172 pages   \n",
       "1779                        صباح الورد                         152 pages   \n",
       "1783              الباقي من الزمن ساعة              151 pages, Paperback   \n",
       "1794                      الفجر الكاذب              227 pages, Paperback   \n",
       "\n",
       "                                              published language  \\\n",
       "940      January 1, 2009 by دار نهضة مصر للطباعة والنشر   Arabic   \n",
       "1244                                      مريت ، الشروق   Arabic   \n",
       "1248                        March 1, 2009 by دار الشروق   Arabic   \n",
       "1249             March 19, 2007 by الدار العربية للعلوم   Arabic   \n",
       "1283                        March 1, 1992 by دار الهلال   Arabic   \n",
       "1299                       May 1, 1993 by HarperCollins  English   \n",
       "1307        June 8, 2011 by مكتبة الدار العربية للكتاب    Arabic   \n",
       "1370                                         Book House      NaN   \n",
       "1389                        January 1, 2008 by نهضة مصر   Arabic   \n",
       "1427        January 13, 2015 by الدار المصرية اللبنانية      NaN   \n",
       "1485                      January 1, 2012 by دار الشروق   Arabic   \n",
       "1497  December 1, 2003 by دار القلم للطباعة والنشر و...   Arabic   \n",
       "1510                                                NaN      NaN   \n",
       "1542    January 1, 2003 by الهيئة المصرية العامة للكتاب   Arabic   \n",
       "1588                   June 21, 2018 by Sandstone Press  English   \n",
       "1591              January 1, 1985 by العصر الحديث للنشر   Arabic   \n",
       "1638                            الدار المصرية اللبنانية   Arabic   \n",
       "1657               July 1, 1950 by New American Library  English   \n",
       "1678               January 1, 1987 by دار الريان للتراث   Arabic   \n",
       "1720                                                NaN   Arabic   \n",
       "1745  January 1, 2004 by المؤسسة العربية للدراسات وا...   Arabic   \n",
       "1775                      January 1, 2006 by دار الشروق   Arabic   \n",
       "1779                      January 1, 2006 by دار الشروق   Arabic   \n",
       "1783                      January 1, 2006 by دار الشروق   Arabic   \n",
       "1794                      January 1, 2009 by دار الشروق   Arabic   \n",
       "\n",
       "                                                setting  \\\n",
       "940                                                 NaN   \n",
       "1244  Samarkand (Uzbekistan), Bukhara (Uzbekistan), ...   \n",
       "1248                                                NaN   \n",
       "1249                                                NaN   \n",
       "1283                                                NaN   \n",
       "1299  Egypt, Sahara Desert, Tangier (Morocco), Andal...   \n",
       "1307                                                NaN   \n",
       "1370                                                NaN   \n",
       "1389                                              Egypt   \n",
       "1427                                                NaN   \n",
       "1485                                                NaN   \n",
       "1497                                                NaN   \n",
       "1510                                                NaN   \n",
       "1542                                              Egypt   \n",
       "1588                                  Oman, Middle East   \n",
       "1591                                                NaN   \n",
       "1638                                                NaN   \n",
       "1657                                                NaN   \n",
       "1678                                                NaN   \n",
       "1720                                                NaN   \n",
       "1745                                                NaN   \n",
       "1775                                                NaN   \n",
       "1779                                              Egypt   \n",
       "1783                                                NaN   \n",
       "1794                                                NaN   \n",
       "\n",
       "                                       all_contributors  \\\n",
       "940                                   عباس محمود العقاد   \n",
       "1244     محمد المنسي قنديل,Mohamed Mansi Qandil (a.k.a)   \n",
       "1248                                          جلال أمين   \n",
       "1249                                  Monther Alkabbani   \n",
       "1283                                  محمد المنسي قنديل   \n",
       "1299           Paulo Coelho,Alan R. Clarke (Translator)   \n",
       "1307                                      أشرف العشماوي   \n",
       "1370                                           حسن كمال   \n",
       "1389                                  عباس محمود العقاد   \n",
       "1427                                      أشرف العشماوي   \n",
       "1485                                  عزالدين شكري فشير   \n",
       "1497                                         د.عماد زكي   \n",
       "1510  George Orwell,Chris Mould (Illustrator),Τζωρτζ...   \n",
       "1542                                          أحمد أمين   \n",
       "1588          Jokha Alharthi,Marilyn Booth (Translator)   \n",
       "1591                                         مصطفى أمين   \n",
       "1638                                      أشرف العشماوي   \n",
       "1657                                      George Orwell   \n",
       "1678                                          أحمد بهجت   \n",
       "1720                                       محمود المصري   \n",
       "1745                                      حسين البرغوثي   \n",
       "1775                          Naguib Mahfouz,نجيب محفوظ   \n",
       "1779                      Naguib Mahfouz,Naguib Mahfouz   \n",
       "1783                      Naguib Mahfouz,Naguib Mahfouz   \n",
       "1794                      Naguib Mahfouz,Naguib Mahfouz   \n",
       "\n",
       "          number_of_editions                   currently_reading  \\\n",
       "940     Show all 19 editions    209 people are currently reading   \n",
       "1244    Show all 13 editions  1,484 people are currently reading   \n",
       "1248     Show all 4 editions    482 people are currently reading   \n",
       "1249     Show all 8 editions    327 people are currently reading   \n",
       "1283     Show all 5 editions    209 people are currently reading   \n",
       "1299   Show all 738 editions    73k people are currently reading   \n",
       "1307     Show all 6 editions     21 people are currently reading   \n",
       "1370     Show all 4 editions     16 people are currently reading   \n",
       "1389    Show all 31 editions    443 people are currently reading   \n",
       "1427    Show all 10 editions    208 people are currently reading   \n",
       "1485     Show all 5 editions     88 people are currently reading   \n",
       "1497     Show all 8 editions     95 people are currently reading   \n",
       "1510                     NaN                                 NaN   \n",
       "1542    Show all 17 editions    262 people are currently reading   \n",
       "1588    Show all 61 editions  1,689 people are currently reading   \n",
       "1591     Show all 2 editions     11 people are currently reading   \n",
       "1638     Show all 3 editions     39 people are currently reading   \n",
       "1657  Show all 2966 editions   166k people are currently reading   \n",
       "1678     Show all 8 editions     79 people are currently reading   \n",
       "1720       Show all editions     61 people are currently reading   \n",
       "1745    Show all 11 editions    337 people are currently reading   \n",
       "1775     Show all 9 editions     55 people are currently reading   \n",
       "1779     Show all 9 editions     40 people are currently reading   \n",
       "1783    Show all 20 editions     71 people are currently reading   \n",
       "1794    Show all 10 editions     53 people are currently reading   \n",
       "\n",
       "                        to_read  \\\n",
       "940   3,532 people want to read   \n",
       "1244  23.3k people want to read   \n",
       "1248    13k people want to read   \n",
       "1249  8,131 people want to read   \n",
       "1283  4,947 people want to read   \n",
       "1299     2m people want to read   \n",
       "1307  2,948 people want to read   \n",
       "1370    978 people want to read   \n",
       "1389  5,213 people want to read   \n",
       "1427  3,912 people want to read   \n",
       "1485  2,629 people want to read   \n",
       "1497  1,584 people want to read   \n",
       "1510                        NaN   \n",
       "1542  4,371 people want to read   \n",
       "1588  22.4k people want to read   \n",
       "1591    415 people want to read   \n",
       "1638  3,424 people want to read   \n",
       "1657     2m people want to read   \n",
       "1678    990 people want to read   \n",
       "1720    785 people want to read   \n",
       "1745  5,927 people want to read   \n",
       "1775  1,203 people want to read   \n",
       "1779  1,192 people want to read   \n",
       "1783  2,332 people want to read   \n",
       "1794  1,226 people want to read   \n",
       "\n",
       "                                             all_genres  \n",
       "940   Religion,Philosophy,Islam,Nonfiction,God,Spiri...  \n",
       "1244  Novels,Fiction,Literature,Historical Fiction,E...  \n",
       "1248  Biography,Nonfiction,Autobiography,Literature,...  \n",
       "1249  Novels,Fiction,Literature,Politics,Mystery,His...  \n",
       "1283  Novels,Historical Fiction,Literature,Romantic,...  \n",
       "1299  Fiction,Classics,Fantasy,Philosophy,Novels,Spi...  \n",
       "1307                                             Novels  \n",
       "1370             Short Stories,Fiction,Audiobook,Novels  \n",
       "1389       Novels,Fiction,Literature,Classics,Audiobook  \n",
       "1427      History,Literature,Egypt,Audiobook,Historical  \n",
       "1485                          Novels,Literature,Fiction  \n",
       "1497                          Novels,Literature,Fiction  \n",
       "1510  Classics,Fiction,Dystopia,Fantasy,Politics,Lit...  \n",
       "1542  Biography,Nonfiction,Autobiography,Classics,Hi...  \n",
       "1588  Fiction,Historical Fiction,Literary Fiction,No...  \n",
       "1591                                                NaN  \n",
       "1638                           History,Nonfiction,Egypt  \n",
       "1657  Classics,Fiction,Science Fiction,Dystopia,Lite...  \n",
       "1678  Religion,Islam,Media Tie In,Literature,Nonfict...  \n",
       "1720                                           Religion  \n",
       "1745  Biography,Nonfiction,Literature,Philosophy,Aud...  \n",
       "1775            Short Stories,Novels,Fiction,Literature  \n",
       "1779            Short Stories,Novels,Fiction,Literature  \n",
       "1783  Fiction,Novels,Literature,Egypt,Egyptian Liter...  \n",
       "1794                   Short Stories,Fiction,Literature  \n",
       "\n",
       "[25 rows x 28 columns]"
      ]
     },
     "execution_count": 6,
     "metadata": {},
     "output_type": "execute_result"
    }
   ],
   "source": [
    "df['title'].sort_values()\n",
    "\n",
    "df[df['title'].duplicated() == True].head(25)"
   ]
  },
  {
   "cell_type": "code",
   "execution_count": 7,
   "id": "103ee596",
   "metadata": {},
   "outputs": [
    {
     "data": {
      "text/plain": [
       "0"
      ]
     },
     "execution_count": 7,
     "metadata": {},
     "output_type": "execute_result"
    }
   ],
   "source": [
    "df.duplicated().sum()"
   ]
  },
  {
   "cell_type": "code",
   "execution_count": 8,
   "id": "9c617b6c",
   "metadata": {
    "scrolled": true
   },
   "outputs": [
    {
     "data": {
      "text/plain": [
       "ISBN                         1245\n",
       "goodreads_id                    0\n",
       "title                           1\n",
       "image                           1\n",
       "goodreads_link                  0\n",
       "publication_info              922\n",
       "number_of_rattings              1\n",
       "number_of_reviews               1\n",
       "book_rate                       1\n",
       "number_of_5_stars_rating        1\n",
       "number_of_4_stars_rating        1\n",
       "number_of_3_stars_rating        1\n",
       "number_of_2_stars_rating        1\n",
       "number_of_1_stars_rating        1\n",
       "author_name                     1\n",
       "author_link                     1\n",
       "author_no_of_books           1613\n",
       "author_followers             2100\n",
       "original_title               5635\n",
       "book_format                   514\n",
       "published                     525\n",
       "language                     1539\n",
       "setting                     11001\n",
       "all_contributors                1\n",
       "number_of_editions            436\n",
       "currently_reading            3665\n",
       "to_read                      2178\n",
       "all_genres                   6267\n",
       "dtype: int64"
      ]
     },
     "execution_count": 8,
     "metadata": {},
     "output_type": "execute_result"
    }
   ],
   "source": [
    "df.isnull().sum()"
   ]
  },
  {
   "cell_type": "code",
   "execution_count": 9,
   "id": "80fabbc3",
   "metadata": {},
   "outputs": [
    {
     "data": {
      "text/html": [
       "<div>\n",
       "<style scoped>\n",
       "    .dataframe tbody tr th:only-of-type {\n",
       "        vertical-align: middle;\n",
       "    }\n",
       "\n",
       "    .dataframe tbody tr th {\n",
       "        vertical-align: top;\n",
       "    }\n",
       "\n",
       "    .dataframe thead th {\n",
       "        text-align: right;\n",
       "    }\n",
       "</style>\n",
       "<table border=\"1\" class=\"dataframe\">\n",
       "  <thead>\n",
       "    <tr style=\"text-align: right;\">\n",
       "      <th></th>\n",
       "      <th>ISBN</th>\n",
       "      <th>goodreads_id</th>\n",
       "      <th>title</th>\n",
       "      <th>image</th>\n",
       "      <th>goodreads_link</th>\n",
       "      <th>publication_info</th>\n",
       "      <th>number_of_rattings</th>\n",
       "      <th>number_of_reviews</th>\n",
       "      <th>book_rate</th>\n",
       "      <th>number_of_5_stars_rating</th>\n",
       "      <th>...</th>\n",
       "      <th>original_title</th>\n",
       "      <th>book_format</th>\n",
       "      <th>published</th>\n",
       "      <th>language</th>\n",
       "      <th>setting</th>\n",
       "      <th>all_contributors</th>\n",
       "      <th>number_of_editions</th>\n",
       "      <th>currently_reading</th>\n",
       "      <th>to_read</th>\n",
       "      <th>all_genres</th>\n",
       "    </tr>\n",
       "  </thead>\n",
       "  <tbody>\n",
       "    <tr>\n",
       "      <th>count</th>\n",
       "      <td>11460</td>\n",
       "      <td>12705</td>\n",
       "      <td>12704</td>\n",
       "      <td>12704</td>\n",
       "      <td>12705</td>\n",
       "      <td>11783</td>\n",
       "      <td>12704</td>\n",
       "      <td>12704</td>\n",
       "      <td>12704.000000</td>\n",
       "      <td>12704</td>\n",
       "      <td>...</td>\n",
       "      <td>7070</td>\n",
       "      <td>12191</td>\n",
       "      <td>12180</td>\n",
       "      <td>11166</td>\n",
       "      <td>1704</td>\n",
       "      <td>12704</td>\n",
       "      <td>12269</td>\n",
       "      <td>9040</td>\n",
       "      <td>10527</td>\n",
       "      <td>6438</td>\n",
       "    </tr>\n",
       "    <tr>\n",
       "      <th>unique</th>\n",
       "      <td>11460</td>\n",
       "      <td>12452</td>\n",
       "      <td>11796</td>\n",
       "      <td>10857</td>\n",
       "      <td>12452</td>\n",
       "      <td>2704</td>\n",
       "      <td>4009</td>\n",
       "      <td>2051</td>\n",
       "      <td>NaN</td>\n",
       "      <td>6233</td>\n",
       "      <td>...</td>\n",
       "      <td>6141</td>\n",
       "      <td>1797</td>\n",
       "      <td>7376</td>\n",
       "      <td>28</td>\n",
       "      <td>863</td>\n",
       "      <td>8197</td>\n",
       "      <td>642</td>\n",
       "      <td>1559</td>\n",
       "      <td>3518</td>\n",
       "      <td>4118</td>\n",
       "    </tr>\n",
       "    <tr>\n",
       "      <th>top</th>\n",
       "      <td>9786140105232 (ISBN10: 6140105234)</td>\n",
       "      <td>13637412</td>\n",
       "      <td>1984</td>\n",
       "      <td>https://d15be2nos83ntc.cloudfront.net/images/n...</td>\n",
       "      <td>https://www.goodreads.com/book/show/13637412</td>\n",
       "      <td>Published January 1, 2019</td>\n",
       "      <td>0 ratings</td>\n",
       "      <td>0 reviews</td>\n",
       "      <td>NaN</td>\n",
       "      <td>0 (0%)</td>\n",
       "      <td>...</td>\n",
       "      <td>Nineteen Eighty-Four</td>\n",
       "      <td>Paperback</td>\n",
       "      <td>الدار العربية للعلوم ناشرون</td>\n",
       "      <td>Arabic</td>\n",
       "      <td>Egypt</td>\n",
       "      <td>unknown author</td>\n",
       "      <td>Show all editions</td>\n",
       "      <td>1 person is currently reading</td>\n",
       "      <td>3 people want to read</td>\n",
       "      <td>Novels</td>\n",
       "    </tr>\n",
       "    <tr>\n",
       "      <th>freq</th>\n",
       "      <td>1</td>\n",
       "      <td>2</td>\n",
       "      <td>9</td>\n",
       "      <td>1595</td>\n",
       "      <td>2</td>\n",
       "      <td>269</td>\n",
       "      <td>1561</td>\n",
       "      <td>2524</td>\n",
       "      <td>NaN</td>\n",
       "      <td>2485</td>\n",
       "      <td>...</td>\n",
       "      <td>10</td>\n",
       "      <td>622</td>\n",
       "      <td>342</td>\n",
       "      <td>10509</td>\n",
       "      <td>195</td>\n",
       "      <td>380</td>\n",
       "      <td>4940</td>\n",
       "      <td>930</td>\n",
       "      <td>201</td>\n",
       "      <td>239</td>\n",
       "    </tr>\n",
       "    <tr>\n",
       "      <th>mean</th>\n",
       "      <td>NaN</td>\n",
       "      <td>NaN</td>\n",
       "      <td>NaN</td>\n",
       "      <td>NaN</td>\n",
       "      <td>NaN</td>\n",
       "      <td>NaN</td>\n",
       "      <td>NaN</td>\n",
       "      <td>NaN</td>\n",
       "      <td>3.251579</td>\n",
       "      <td>NaN</td>\n",
       "      <td>...</td>\n",
       "      <td>NaN</td>\n",
       "      <td>NaN</td>\n",
       "      <td>NaN</td>\n",
       "      <td>NaN</td>\n",
       "      <td>NaN</td>\n",
       "      <td>NaN</td>\n",
       "      <td>NaN</td>\n",
       "      <td>NaN</td>\n",
       "      <td>NaN</td>\n",
       "      <td>NaN</td>\n",
       "    </tr>\n",
       "    <tr>\n",
       "      <th>std</th>\n",
       "      <td>NaN</td>\n",
       "      <td>NaN</td>\n",
       "      <td>NaN</td>\n",
       "      <td>NaN</td>\n",
       "      <td>NaN</td>\n",
       "      <td>NaN</td>\n",
       "      <td>NaN</td>\n",
       "      <td>NaN</td>\n",
       "      <td>1.330783</td>\n",
       "      <td>NaN</td>\n",
       "      <td>...</td>\n",
       "      <td>NaN</td>\n",
       "      <td>NaN</td>\n",
       "      <td>NaN</td>\n",
       "      <td>NaN</td>\n",
       "      <td>NaN</td>\n",
       "      <td>NaN</td>\n",
       "      <td>NaN</td>\n",
       "      <td>NaN</td>\n",
       "      <td>NaN</td>\n",
       "      <td>NaN</td>\n",
       "    </tr>\n",
       "    <tr>\n",
       "      <th>min</th>\n",
       "      <td>NaN</td>\n",
       "      <td>NaN</td>\n",
       "      <td>NaN</td>\n",
       "      <td>NaN</td>\n",
       "      <td>NaN</td>\n",
       "      <td>NaN</td>\n",
       "      <td>NaN</td>\n",
       "      <td>NaN</td>\n",
       "      <td>0.000000</td>\n",
       "      <td>NaN</td>\n",
       "      <td>...</td>\n",
       "      <td>NaN</td>\n",
       "      <td>NaN</td>\n",
       "      <td>NaN</td>\n",
       "      <td>NaN</td>\n",
       "      <td>NaN</td>\n",
       "      <td>NaN</td>\n",
       "      <td>NaN</td>\n",
       "      <td>NaN</td>\n",
       "      <td>NaN</td>\n",
       "      <td>NaN</td>\n",
       "    </tr>\n",
       "    <tr>\n",
       "      <th>25%</th>\n",
       "      <td>NaN</td>\n",
       "      <td>NaN</td>\n",
       "      <td>NaN</td>\n",
       "      <td>NaN</td>\n",
       "      <td>NaN</td>\n",
       "      <td>NaN</td>\n",
       "      <td>NaN</td>\n",
       "      <td>NaN</td>\n",
       "      <td>3.160000</td>\n",
       "      <td>NaN</td>\n",
       "      <td>...</td>\n",
       "      <td>NaN</td>\n",
       "      <td>NaN</td>\n",
       "      <td>NaN</td>\n",
       "      <td>NaN</td>\n",
       "      <td>NaN</td>\n",
       "      <td>NaN</td>\n",
       "      <td>NaN</td>\n",
       "      <td>NaN</td>\n",
       "      <td>NaN</td>\n",
       "      <td>NaN</td>\n",
       "    </tr>\n",
       "    <tr>\n",
       "      <th>50%</th>\n",
       "      <td>NaN</td>\n",
       "      <td>NaN</td>\n",
       "      <td>NaN</td>\n",
       "      <td>NaN</td>\n",
       "      <td>NaN</td>\n",
       "      <td>NaN</td>\n",
       "      <td>NaN</td>\n",
       "      <td>NaN</td>\n",
       "      <td>3.700000</td>\n",
       "      <td>NaN</td>\n",
       "      <td>...</td>\n",
       "      <td>NaN</td>\n",
       "      <td>NaN</td>\n",
       "      <td>NaN</td>\n",
       "      <td>NaN</td>\n",
       "      <td>NaN</td>\n",
       "      <td>NaN</td>\n",
       "      <td>NaN</td>\n",
       "      <td>NaN</td>\n",
       "      <td>NaN</td>\n",
       "      <td>NaN</td>\n",
       "    </tr>\n",
       "    <tr>\n",
       "      <th>75%</th>\n",
       "      <td>NaN</td>\n",
       "      <td>NaN</td>\n",
       "      <td>NaN</td>\n",
       "      <td>NaN</td>\n",
       "      <td>NaN</td>\n",
       "      <td>NaN</td>\n",
       "      <td>NaN</td>\n",
       "      <td>NaN</td>\n",
       "      <td>4.000000</td>\n",
       "      <td>NaN</td>\n",
       "      <td>...</td>\n",
       "      <td>NaN</td>\n",
       "      <td>NaN</td>\n",
       "      <td>NaN</td>\n",
       "      <td>NaN</td>\n",
       "      <td>NaN</td>\n",
       "      <td>NaN</td>\n",
       "      <td>NaN</td>\n",
       "      <td>NaN</td>\n",
       "      <td>NaN</td>\n",
       "      <td>NaN</td>\n",
       "    </tr>\n",
       "    <tr>\n",
       "      <th>max</th>\n",
       "      <td>NaN</td>\n",
       "      <td>NaN</td>\n",
       "      <td>NaN</td>\n",
       "      <td>NaN</td>\n",
       "      <td>NaN</td>\n",
       "      <td>NaN</td>\n",
       "      <td>NaN</td>\n",
       "      <td>NaN</td>\n",
       "      <td>5.000000</td>\n",
       "      <td>NaN</td>\n",
       "      <td>...</td>\n",
       "      <td>NaN</td>\n",
       "      <td>NaN</td>\n",
       "      <td>NaN</td>\n",
       "      <td>NaN</td>\n",
       "      <td>NaN</td>\n",
       "      <td>NaN</td>\n",
       "      <td>NaN</td>\n",
       "      <td>NaN</td>\n",
       "      <td>NaN</td>\n",
       "      <td>NaN</td>\n",
       "    </tr>\n",
       "  </tbody>\n",
       "</table>\n",
       "<p>11 rows × 28 columns</p>\n",
       "</div>"
      ],
      "text/plain": [
       "                                      ISBN goodreads_id  title  \\\n",
       "count                                11460        12705  12704   \n",
       "unique                               11460        12452  11796   \n",
       "top     9786140105232 (ISBN10: 6140105234)     13637412   1984   \n",
       "freq                                     1            2      9   \n",
       "mean                                   NaN          NaN    NaN   \n",
       "std                                    NaN          NaN    NaN   \n",
       "min                                    NaN          NaN    NaN   \n",
       "25%                                    NaN          NaN    NaN   \n",
       "50%                                    NaN          NaN    NaN   \n",
       "75%                                    NaN          NaN    NaN   \n",
       "max                                    NaN          NaN    NaN   \n",
       "\n",
       "                                                    image  \\\n",
       "count                                               12704   \n",
       "unique                                              10857   \n",
       "top     https://d15be2nos83ntc.cloudfront.net/images/n...   \n",
       "freq                                                 1595   \n",
       "mean                                                  NaN   \n",
       "std                                                   NaN   \n",
       "min                                                   NaN   \n",
       "25%                                                   NaN   \n",
       "50%                                                   NaN   \n",
       "75%                                                   NaN   \n",
       "max                                                   NaN   \n",
       "\n",
       "                                      goodreads_link  \\\n",
       "count                                          12705   \n",
       "unique                                         12452   \n",
       "top     https://www.goodreads.com/book/show/13637412   \n",
       "freq                                               2   \n",
       "mean                                             NaN   \n",
       "std                                              NaN   \n",
       "min                                              NaN   \n",
       "25%                                              NaN   \n",
       "50%                                              NaN   \n",
       "75%                                              NaN   \n",
       "max                                              NaN   \n",
       "\n",
       "                 publication_info number_of_rattings number_of_reviews  \\\n",
       "count                       11783              12704             12704   \n",
       "unique                       2704               4009              2051   \n",
       "top     Published January 1, 2019          0 ratings         0 reviews   \n",
       "freq                          269               1561              2524   \n",
       "mean                          NaN                NaN               NaN   \n",
       "std                           NaN                NaN               NaN   \n",
       "min                           NaN                NaN               NaN   \n",
       "25%                           NaN                NaN               NaN   \n",
       "50%                           NaN                NaN               NaN   \n",
       "75%                           NaN                NaN               NaN   \n",
       "max                           NaN                NaN               NaN   \n",
       "\n",
       "           book_rate number_of_5_stars_rating  ...        original_title  \\\n",
       "count   12704.000000                    12704  ...                  7070   \n",
       "unique           NaN                     6233  ...                  6141   \n",
       "top              NaN                   0 (0%)  ...  Nineteen Eighty-Four   \n",
       "freq             NaN                     2485  ...                    10   \n",
       "mean        3.251579                      NaN  ...                   NaN   \n",
       "std         1.330783                      NaN  ...                   NaN   \n",
       "min         0.000000                      NaN  ...                   NaN   \n",
       "25%         3.160000                      NaN  ...                   NaN   \n",
       "50%         3.700000                      NaN  ...                   NaN   \n",
       "75%         4.000000                      NaN  ...                   NaN   \n",
       "max         5.000000                      NaN  ...                   NaN   \n",
       "\n",
       "       book_format                    published language setting  \\\n",
       "count        12191                        12180    11166    1704   \n",
       "unique        1797                         7376       28     863   \n",
       "top      Paperback  الدار العربية للعلوم ناشرون   Arabic   Egypt   \n",
       "freq           622                          342    10509     195   \n",
       "mean           NaN                          NaN      NaN     NaN   \n",
       "std            NaN                          NaN      NaN     NaN   \n",
       "min            NaN                          NaN      NaN     NaN   \n",
       "25%            NaN                          NaN      NaN     NaN   \n",
       "50%            NaN                          NaN      NaN     NaN   \n",
       "75%            NaN                          NaN      NaN     NaN   \n",
       "max            NaN                          NaN      NaN     NaN   \n",
       "\n",
       "       all_contributors number_of_editions              currently_reading  \\\n",
       "count             12704              12269                           9040   \n",
       "unique             8197                642                           1559   \n",
       "top      unknown author  Show all editions  1 person is currently reading   \n",
       "freq                380               4940                            930   \n",
       "mean                NaN                NaN                            NaN   \n",
       "std                 NaN                NaN                            NaN   \n",
       "min                 NaN                NaN                            NaN   \n",
       "25%                 NaN                NaN                            NaN   \n",
       "50%                 NaN                NaN                            NaN   \n",
       "75%                 NaN                NaN                            NaN   \n",
       "max                 NaN                NaN                            NaN   \n",
       "\n",
       "                      to_read all_genres  \n",
       "count                   10527       6438  \n",
       "unique                   3518       4118  \n",
       "top     3 people want to read     Novels  \n",
       "freq                      201        239  \n",
       "mean                      NaN        NaN  \n",
       "std                       NaN        NaN  \n",
       "min                       NaN        NaN  \n",
       "25%                       NaN        NaN  \n",
       "50%                       NaN        NaN  \n",
       "75%                       NaN        NaN  \n",
       "max                       NaN        NaN  \n",
       "\n",
       "[11 rows x 28 columns]"
      ]
     },
     "execution_count": 9,
     "metadata": {},
     "output_type": "execute_result"
    }
   ],
   "source": [
    "df.describe(include='all')"
   ]
  },
  {
   "cell_type": "markdown",
   "id": "bb7734a1",
   "metadata": {},
   "source": [
    "### Column by Column investigation"
   ]
  },
  {
   "cell_type": "markdown",
   "id": "21c8d79a",
   "metadata": {},
   "source": [
    "#### Title Column"
   ]
  },
  {
   "cell_type": "code",
   "execution_count": 10,
   "id": "7b9cdf93",
   "metadata": {
    "scrolled": true
   },
   "outputs": [
    {
     "data": {
      "text/plain": [
       "1"
      ]
     },
     "execution_count": 10,
     "metadata": {},
     "output_type": "execute_result"
    }
   ],
   "source": [
    "df['title'].isnull().sum()"
   ]
  },
  {
   "cell_type": "code",
   "execution_count": 11,
   "id": "852c3da2",
   "metadata": {},
   "outputs": [],
   "source": [
    "df.dropna(subset='title', inplace=True) # delete the row with empty title\""
   ]
  },
  {
   "cell_type": "markdown",
   "id": "e0c2a209",
   "metadata": {},
   "source": [
    "#### Image Column\n",
    "remove image column (unnecessary for the analysis)"
   ]
  },
  {
   "cell_type": "code",
   "execution_count": 12,
   "id": "51c210db",
   "metadata": {},
   "outputs": [],
   "source": [
    "df.drop('image', inplace=True, axis=1)"
   ]
  },
  {
   "cell_type": "markdown",
   "id": "8e69304b",
   "metadata": {},
   "source": [
    "#### goodreads link Column\n",
    "remove goodreads link column (unnecessary for the analysis)"
   ]
  },
  {
   "cell_type": "code",
   "execution_count": 13,
   "id": "d5fbb3de",
   "metadata": {},
   "outputs": [],
   "source": [
    "df.drop('goodreads_link', inplace=True, axis=1)"
   ]
  },
  {
   "cell_type": "markdown",
   "id": "f3a61bc0",
   "metadata": {},
   "source": [
    "#### Publication Info Coulmn"
   ]
  },
  {
   "cell_type": "code",
   "execution_count": 14,
   "id": "daef4a05",
   "metadata": {},
   "outputs": [
    {
     "data": {
      "text/plain": [
       "921"
      ]
     },
     "execution_count": 14,
     "metadata": {},
     "output_type": "execute_result"
    }
   ],
   "source": [
    "df['publication_info'].isnull().sum()"
   ]
  },
  {
   "cell_type": "code",
   "execution_count": 15,
   "id": "a7515d66",
   "metadata": {},
   "outputs": [
    {
     "data": {
      "text/plain": [
       "Published January 1, 2019            269\n",
       "Published January 1, 2021            262\n",
       "First published January 1, 2009      242\n",
       "First published January 1, 2008      224\n",
       "First published January 1, 2012      222\n",
       "                                    ... \n",
       "First published March 29, 2011         1\n",
       "First published March 5, 2020          1\n",
       "First published October 5, 2021        1\n",
       "Published September 13, 2020           1\n",
       "First published February 27, 2007      1\n",
       "Name: publication_info, Length: 2704, dtype: int64"
      ]
     },
     "execution_count": 15,
     "metadata": {},
     "output_type": "execute_result"
    }
   ],
   "source": [
    "df['publication_info'].value_counts()"
   ]
  },
  {
   "cell_type": "markdown",
   "id": "7dc6a130",
   "metadata": {},
   "source": [
    "#### Number Of Rattings Coulmn"
   ]
  },
  {
   "cell_type": "code",
   "execution_count": 16,
   "id": "b3f07a25",
   "metadata": {},
   "outputs": [
    {
     "data": {
      "text/plain": [
       "0"
      ]
     },
     "execution_count": 16,
     "metadata": {},
     "output_type": "execute_result"
    }
   ],
   "source": [
    "df['number_of_rattings'].isnull().sum()"
   ]
  },
  {
   "cell_type": "code",
   "execution_count": 17,
   "id": "05496dca",
   "metadata": {},
   "outputs": [
    {
     "data": {
      "text/plain": [
       "0 ratings          1561\n",
       "1 rating            535\n",
       "2 ratings           404\n",
       "3 ratings           288\n",
       "4 ratings           212\n",
       "                   ... \n",
       "28,633 ratings        1\n",
       "6,983 ratings         1\n",
       "641,851 ratings       1\n",
       "5,448 ratings         1\n",
       "25,553 ratings        1\n",
       "Name: number_of_rattings, Length: 4009, dtype: int64"
      ]
     },
     "execution_count": 17,
     "metadata": {},
     "output_type": "execute_result"
    }
   ],
   "source": [
    "df['number_of_rattings'].value_counts()"
   ]
  },
  {
   "cell_type": "markdown",
   "id": "e8a73aee",
   "metadata": {},
   "source": [
    "#### Number Of Reviews Coulmn"
   ]
  },
  {
   "cell_type": "code",
   "execution_count": 18,
   "id": "6e4657de",
   "metadata": {},
   "outputs": [
    {
     "data": {
      "text/plain": [
       "0"
      ]
     },
     "execution_count": 18,
     "metadata": {},
     "output_type": "execute_result"
    }
   ],
   "source": [
    "df['number_of_reviews'].isnull().sum()"
   ]
  },
  {
   "cell_type": "code",
   "execution_count": 19,
   "id": "f2cf5fc9",
   "metadata": {},
   "outputs": [
    {
     "data": {
      "text/plain": [
       "0 reviews          2524\n",
       "1 review            878\n",
       "2 reviews           481\n",
       "3 reviews           338\n",
       "4 reviews           255\n",
       "                   ... \n",
       "54,169 reviews        1\n",
       "893 reviews           1\n",
       "178,948 reviews       1\n",
       "1,198 reviews         1\n",
       "1,178 reviews         1\n",
       "Name: number_of_reviews, Length: 2051, dtype: int64"
      ]
     },
     "execution_count": 19,
     "metadata": {},
     "output_type": "execute_result"
    }
   ],
   "source": [
    "df['number_of_reviews'].value_counts()"
   ]
  },
  {
   "cell_type": "markdown",
   "id": "269be8c1",
   "metadata": {},
   "source": [
    "#### Book Rate Coulmn"
   ]
  },
  {
   "cell_type": "code",
   "execution_count": 20,
   "id": "db3bca98",
   "metadata": {},
   "outputs": [
    {
     "data": {
      "text/plain": [
       "0"
      ]
     },
     "execution_count": 20,
     "metadata": {},
     "output_type": "execute_result"
    }
   ],
   "source": [
    "df['book_rate'].isnull().sum()"
   ]
  },
  {
   "cell_type": "code",
   "execution_count": 21,
   "id": "bc84eda0",
   "metadata": {},
   "outputs": [
    {
     "data": {
      "text/plain": [
       "0.00    1561\n",
       "4.00     423\n",
       "3.00     341\n",
       "5.00     294\n",
       "3.50     174\n",
       "        ... \n",
       "2.06       1\n",
       "1.88       1\n",
       "2.46       1\n",
       "2.49       1\n",
       "1.83       1\n",
       "Name: book_rate, Length: 295, dtype: int64"
      ]
     },
     "execution_count": 21,
     "metadata": {},
     "output_type": "execute_result"
    }
   ],
   "source": [
    "df['book_rate'].value_counts()"
   ]
  },
  {
   "cell_type": "markdown",
   "id": "982c311e",
   "metadata": {},
   "source": [
    "#### Number Of 5 Stars Rating Coulmn"
   ]
  },
  {
   "cell_type": "code",
   "execution_count": 22,
   "id": "2270cb6a",
   "metadata": {},
   "outputs": [
    {
     "data": {
      "text/plain": [
       "0"
      ]
     },
     "execution_count": 22,
     "metadata": {},
     "output_type": "execute_result"
    }
   ],
   "source": [
    "df['number_of_5_stars_rating'].isnull().sum()"
   ]
  },
  {
   "cell_type": "code",
   "execution_count": 23,
   "id": "5e8ca15d",
   "metadata": {},
   "outputs": [
    {
     "data": {
      "text/plain": [
       "0 (0%)         2485\n",
       "1 (100%)        175\n",
       "1 (50%)         147\n",
       "1 (33%)          84\n",
       "1 (25%)          68\n",
       "               ... \n",
       "49 (57%)          1\n",
       "1,625 (42%)       1\n",
       "460 (54%)         1\n",
       "521 (43%)         1\n",
       "9,684 (37%)       1\n",
       "Name: number_of_5_stars_rating, Length: 6233, dtype: int64"
      ]
     },
     "execution_count": 23,
     "metadata": {},
     "output_type": "execute_result"
    }
   ],
   "source": [
    "df['number_of_5_stars_rating'].value_counts()"
   ]
  },
  {
   "cell_type": "markdown",
   "id": "7342a006",
   "metadata": {},
   "source": [
    "#### Number Of 4 Stars Rating Coulmn"
   ]
  },
  {
   "cell_type": "code",
   "execution_count": 24,
   "id": "95c0d3d9",
   "metadata": {},
   "outputs": [
    {
     "data": {
      "text/plain": [
       "0"
      ]
     },
     "execution_count": 24,
     "metadata": {},
     "output_type": "execute_result"
    }
   ],
   "source": [
    "df['number_of_4_stars_rating'].isnull().sum()"
   ]
  },
  {
   "cell_type": "code",
   "execution_count": 25,
   "id": "4a58a8d1",
   "metadata": {},
   "outputs": [
    {
     "data": {
      "text/plain": [
       "0 (0%)          2675\n",
       "1 (100%)         121\n",
       "1 (50%)          108\n",
       "1 (33%)           91\n",
       "1 (25%)           81\n",
       "                ... \n",
       "44 (27%)           1\n",
       "10,516 (35%)       1\n",
       "36 (51%)           1\n",
       "520 (35%)          1\n",
       "46 (16%)           1\n",
       "Name: number_of_4_stars_rating, Length: 6064, dtype: int64"
      ]
     },
     "execution_count": 25,
     "metadata": {},
     "output_type": "execute_result"
    }
   ],
   "source": [
    "df['number_of_4_stars_rating'].value_counts()"
   ]
  },
  {
   "cell_type": "markdown",
   "id": "d414ae85",
   "metadata": {},
   "source": [
    "#### Number Of 3 Stars Rating Coulmn"
   ]
  },
  {
   "cell_type": "code",
   "execution_count": 26,
   "id": "0c6a37bd",
   "metadata": {},
   "outputs": [
    {
     "data": {
      "text/plain": [
       "0"
      ]
     },
     "execution_count": 26,
     "metadata": {},
     "output_type": "execute_result"
    }
   ],
   "source": [
    "df['number_of_3_stars_rating'].isnull().sum()"
   ]
  },
  {
   "cell_type": "code",
   "execution_count": 27,
   "id": "084dbe8a",
   "metadata": {},
   "outputs": [
    {
     "data": {
      "text/plain": [
       "0 (0%)         2647\n",
       "1 (100%)        140\n",
       "1 (50%)         129\n",
       "1 (33%)         109\n",
       "1 (25%)          84\n",
       "               ... \n",
       "26 (35%)          1\n",
       "166 (25%)         1\n",
       "432 (27%)         1\n",
       "2,139 (21%)       1\n",
       "75 (26%)          1\n",
       "Name: number_of_3_stars_rating, Length: 5872, dtype: int64"
      ]
     },
     "execution_count": 27,
     "metadata": {},
     "output_type": "execute_result"
    }
   ],
   "source": [
    "df['number_of_3_stars_rating'].value_counts()"
   ]
  },
  {
   "cell_type": "markdown",
   "id": "aa16988f",
   "metadata": {},
   "source": [
    "#### Number Of 2 Stars Rating Coulmn"
   ]
  },
  {
   "cell_type": "code",
   "execution_count": 28,
   "id": "5aaafcbc",
   "metadata": {},
   "outputs": [
    {
     "data": {
      "text/plain": [
       "0"
      ]
     },
     "execution_count": 28,
     "metadata": {},
     "output_type": "execute_result"
    }
   ],
   "source": [
    "df['number_of_2_stars_rating'].isnull().sum()"
   ]
  },
  {
   "cell_type": "code",
   "execution_count": 29,
   "id": "b03ca5f4",
   "metadata": {},
   "outputs": [
    {
     "data": {
      "text/plain": [
       "0 (0%)        3405\n",
       "1 (50%)         79\n",
       "1 (33%)         76\n",
       "1 (20%)         74\n",
       "1 (25%)         66\n",
       "              ... \n",
       "985 (20%)        1\n",
       "44 (8%)          1\n",
       "726 (9%)         1\n",
       "1,431 (6%)       1\n",
       "60 (21%)         1\n",
       "Name: number_of_2_stars_rating, Length: 4322, dtype: int64"
      ]
     },
     "execution_count": 29,
     "metadata": {},
     "output_type": "execute_result"
    }
   ],
   "source": [
    "df['number_of_2_stars_rating'].value_counts()"
   ]
  },
  {
   "cell_type": "markdown",
   "id": "0f1519b3",
   "metadata": {},
   "source": [
    "#### Number Of 1 Stars Rating Coulmn"
   ]
  },
  {
   "cell_type": "code",
   "execution_count": 30,
   "id": "ac8f0660",
   "metadata": {},
   "outputs": [
    {
     "data": {
      "text/plain": [
       "0"
      ]
     },
     "execution_count": 30,
     "metadata": {},
     "output_type": "execute_result"
    }
   ],
   "source": [
    "df['number_of_1_stars_rating'].isnull().sum()"
   ]
  },
  {
   "cell_type": "code",
   "execution_count": 31,
   "id": "eb5356c8",
   "metadata": {},
   "outputs": [
    {
     "data": {
      "text/plain": [
       "0 (0%)        3869\n",
       "1 (1%)          97\n",
       "1 (2%)          89\n",
       "1 (3%)          70\n",
       "1 (5%)          69\n",
       "              ... \n",
       "1,263 (2%)       1\n",
       "68 (4%)          1\n",
       "3,439 (1%)       1\n",
       "150 (1%)         1\n",
       "70 (24%)         1\n",
       "Name: number_of_1_stars_rating, Length: 2982, dtype: int64"
      ]
     },
     "execution_count": 31,
     "metadata": {},
     "output_type": "execute_result"
    }
   ],
   "source": [
    "df['number_of_1_stars_rating'].value_counts()"
   ]
  },
  {
   "cell_type": "markdown",
   "id": "c1d4ffa5",
   "metadata": {},
   "source": [
    "#### Author Name Coulmn"
   ]
  },
  {
   "cell_type": "code",
   "execution_count": 32,
   "id": "db9b5535",
   "metadata": {
    "scrolled": true
   },
   "outputs": [
    {
     "data": {
      "text/plain": [
       "0"
      ]
     },
     "execution_count": 32,
     "metadata": {},
     "output_type": "execute_result"
    }
   ],
   "source": [
    "df['author_name'].isnull().sum()"
   ]
  },
  {
   "cell_type": "code",
   "execution_count": 33,
   "id": "e27171a4",
   "metadata": {},
   "outputs": [
    {
     "data": {
      "text/plain": [
       "unknown author         380\n",
       "أحمد خالد توفيق        125\n",
       "Naguib Mahfouz          81\n",
       "Fyodor Dostoevsky       66\n",
       "مصطفى محمود             58\n",
       "                      ... \n",
       "سهام ملكاوي (تأليف)      1\n",
       "سامية مصطفى عياش         1\n",
       "بيير بيار (المؤلف)       1\n",
       "Euripides                1\n",
       "Robert Crais             1\n",
       "Name: author_name, Length: 6752, dtype: int64"
      ]
     },
     "execution_count": 33,
     "metadata": {},
     "output_type": "execute_result"
    }
   ],
   "source": [
    "df['author_name'].value_counts()"
   ]
  },
  {
   "cell_type": "markdown",
   "id": "c29884f8",
   "metadata": {},
   "source": [
    "#### Author Link Coulmn\n",
    "remove author link column (unnecessary for the analysis)"
   ]
  },
  {
   "cell_type": "code",
   "execution_count": 34,
   "id": "e75f50d4",
   "metadata": {},
   "outputs": [],
   "source": [
    "df.drop('author_link', inplace=True, axis=1)"
   ]
  },
  {
   "cell_type": "markdown",
   "id": "562603ab",
   "metadata": {},
   "source": [
    "#### Author No Of Books Coulmn"
   ]
  },
  {
   "cell_type": "code",
   "execution_count": 35,
   "id": "293f3d05",
   "metadata": {
    "scrolled": true
   },
   "outputs": [
    {
     "data": {
      "text/plain": [
       "1612"
      ]
     },
     "execution_count": 35,
     "metadata": {},
     "output_type": "execute_result"
    }
   ],
   "source": [
    "df['author_no_of_books'].isnull().sum()"
   ]
  },
  {
   "cell_type": "code",
   "execution_count": 36,
   "id": "0f2ddeed",
   "metadata": {},
   "outputs": [
    {
     "data": {
      "text/plain": [
       "2         776\n",
       "3         559\n",
       "4         501\n",
       "5         383\n",
       "3m        381\n",
       "         ... \n",
       "1,952       1\n",
       "189         1\n",
       "431         1\n",
       "1,134       1\n",
       "3,775       1\n",
       "Name: author_no_of_books, Length: 682, dtype: int64"
      ]
     },
     "execution_count": 36,
     "metadata": {},
     "output_type": "execute_result"
    }
   ],
   "source": [
    "df['author_no_of_books'].value_counts()"
   ]
  },
  {
   "cell_type": "markdown",
   "id": "82d0e094",
   "metadata": {},
   "source": [
    "#### Author Followers Coulmn"
   ]
  },
  {
   "cell_type": "code",
   "execution_count": 37,
   "id": "5f7a7835",
   "metadata": {},
   "outputs": [
    {
     "data": {
      "text/plain": [
       "2099"
      ]
     },
     "execution_count": 37,
     "metadata": {},
     "output_type": "execute_result"
    }
   ],
   "source": [
    "df['author_followers'].isnull().sum()"
   ]
  },
  {
   "cell_type": "code",
   "execution_count": 38,
   "id": "1043bc1b",
   "metadata": {},
   "outputs": [
    {
     "data": {
      "text/plain": [
       "7 followers        415\n",
       "1 follower         339\n",
       "2 followers        241\n",
       "3 followers        189\n",
       "4 followers        165\n",
       "                  ... \n",
       "330 followers        1\n",
       "2,238 followers      1\n",
       "1,586 followers      1\n",
       "477 followers        1\n",
       "3,932 followers      1\n",
       "Name: author_followers, Length: 1513, dtype: int64"
      ]
     },
     "execution_count": 38,
     "metadata": {},
     "output_type": "execute_result"
    }
   ],
   "source": [
    "df['author_followers'].value_counts()"
   ]
  },
  {
   "cell_type": "markdown",
   "id": "a81dcb4c",
   "metadata": {},
   "source": [
    "#### Original Title Coulmn"
   ]
  },
  {
   "cell_type": "code",
   "execution_count": 39,
   "id": "6ec15010",
   "metadata": {
    "scrolled": true
   },
   "outputs": [
    {
     "data": {
      "text/plain": [
       "5634"
      ]
     },
     "execution_count": 39,
     "metadata": {},
     "output_type": "execute_result"
    }
   ],
   "source": [
    "df['original_title'].isnull().sum()"
   ]
  },
  {
   "cell_type": "code",
   "execution_count": 40,
   "id": "fd49fa31",
   "metadata": {},
   "outputs": [
    {
     "data": {
      "text/plain": [
       "Nineteen Eighty-Four                  10\n",
       "Jane Eyre: An Autobiography            8\n",
       "Βίος και πολιτεία του Αλέξη Ζορμπά     8\n",
       "L'Étranger                             8\n",
       "Animal Farm: A Fairy Story             7\n",
       "                                      ..\n",
       "هليوبوليس                              1\n",
       "العصف والريحان: مذكرات (1981-2015)     1\n",
       "The Englishwoman in Egypt              1\n",
       "Les opinions et les croyances          1\n",
       "The Watchman                           1\n",
       "Name: original_title, Length: 6141, dtype: int64"
      ]
     },
     "execution_count": 40,
     "metadata": {},
     "output_type": "execute_result"
    }
   ],
   "source": [
    "df['original_title'].value_counts()"
   ]
  },
  {
   "cell_type": "markdown",
   "id": "7f375814",
   "metadata": {},
   "source": [
    "#### Book Format Coulmn"
   ]
  },
  {
   "cell_type": "code",
   "execution_count": 41,
   "id": "496fd18f",
   "metadata": {
    "scrolled": true
   },
   "outputs": [
    {
     "data": {
      "text/plain": [
       "513"
      ]
     },
     "execution_count": 41,
     "metadata": {},
     "output_type": "execute_result"
    }
   ],
   "source": [
    "df['book_format'].isnull().sum()"
   ]
  },
  {
   "cell_type": "code",
   "execution_count": 42,
   "id": "ab2e15a9",
   "metadata": {},
   "outputs": [
    {
     "data": {
      "text/plain": [
       "Paperback                622\n",
       "Hardcover                251\n",
       "160 pages, Paperback     148\n",
       "ebook                    147\n",
       "208 pages, Paperback     114\n",
       "                        ... \n",
       "1001 pages, Paperback      1\n",
       "960 pages, Paperback       1\n",
       "1301 pages, Paperback      1\n",
       "24 pages                   1\n",
       "435 pages                  1\n",
       "Name: book_format, Length: 1797, dtype: int64"
      ]
     },
     "execution_count": 42,
     "metadata": {},
     "output_type": "execute_result"
    }
   ],
   "source": [
    "df['book_format'].value_counts()"
   ]
  },
  {
   "cell_type": "markdown",
   "id": "b970aa5e",
   "metadata": {},
   "source": [
    "#### Published Coulmn"
   ]
  },
  {
   "cell_type": "code",
   "execution_count": 43,
   "id": "a9d10917",
   "metadata": {},
   "outputs": [
    {
     "data": {
      "text/plain": [
       "524"
      ]
     },
     "execution_count": 43,
     "metadata": {},
     "output_type": "execute_result"
    }
   ],
   "source": [
    "df['published'].isnull().sum()"
   ]
  },
  {
   "cell_type": "code",
   "execution_count": 44,
   "id": "0a4124d5",
   "metadata": {},
   "outputs": [
    {
     "data": {
      "text/plain": [
       "الدار العربية للعلوم ناشرون                         342\n",
       "ektab                                               136\n",
       "January 1, 2021 by دار خطوط وظلال للنشر والتوزيع     73\n",
       "January 1, 2008 by دار الشروق                        60\n",
       "January 1, 2020                                      59\n",
       "                                                   ... \n",
       "July 1, 2019 by بيت الياسمين للنشر والتوزيع           1\n",
       "September 1, 2017 by دار الفارابي                     1\n",
       "October 20, 2021 by دار إبداع للنشر والتوزيع          1\n",
       "May 15, 2011 by الدار العربية للعلوم ناشرون           1\n",
       "September 26, 2007 by Arab Scientific Publishers      1\n",
       "Name: published, Length: 7376, dtype: int64"
      ]
     },
     "execution_count": 44,
     "metadata": {},
     "output_type": "execute_result"
    }
   ],
   "source": [
    "df['published'].value_counts()"
   ]
  },
  {
   "cell_type": "markdown",
   "id": "203ae25a",
   "metadata": {},
   "source": [
    "#### Language Coulmn"
   ]
  },
  {
   "cell_type": "code",
   "execution_count": 45,
   "id": "997c6486",
   "metadata": {},
   "outputs": [
    {
     "data": {
      "text/plain": [
       "1538"
      ]
     },
     "execution_count": 45,
     "metadata": {},
     "output_type": "execute_result"
    }
   ],
   "source": [
    "df['language'].isnull().sum()"
   ]
  },
  {
   "cell_type": "code",
   "execution_count": 46,
   "id": "bd7ec2d8",
   "metadata": {},
   "outputs": [
    {
     "data": {
      "text/plain": [
       "Arabic                                    10509\n",
       "English                                     490\n",
       "French                                       97\n",
       "Hindi                                        11\n",
       "Turkish                                       8\n",
       "German                                        8\n",
       "Spanish; Castilian                            6\n",
       "Persian                                       5\n",
       "Italian                                       4\n",
       "Dutch; Flemish                                4\n",
       "Aragonese                                     3\n",
       "Altaic (Other)                                2\n",
       "Portuguese                                    2\n",
       "Avaric                                        2\n",
       "Multiple languages                            2\n",
       "Estonian                                      1\n",
       "Oxford Introductions to Language Study        1\n",
       "Romanian                                      1\n",
       "Latvian                                       1\n",
       "Arapaho                                       1\n",
       "Malayalam                                     1\n",
       "Arawak                                        1\n",
       "Japanese                                      1\n",
       "Chinese                                       1\n",
       "Abkhazian                                     1\n",
       "Danish                                        1\n",
       "Apache languages                              1\n",
       "Polish                                        1\n",
       "Name: language, dtype: int64"
      ]
     },
     "execution_count": 46,
     "metadata": {},
     "output_type": "execute_result"
    }
   ],
   "source": [
    "df['language'].value_counts()"
   ]
  },
  {
   "cell_type": "markdown",
   "id": "4bd93c1a",
   "metadata": {},
   "source": [
    "#### Setting Coulmn\n",
    "we can drop this column most of the data is null"
   ]
  },
  {
   "cell_type": "code",
   "execution_count": 47,
   "id": "215fa299",
   "metadata": {},
   "outputs": [
    {
     "data": {
      "text/plain": [
       "11000"
      ]
     },
     "execution_count": 47,
     "metadata": {},
     "output_type": "execute_result"
    }
   ],
   "source": [
    "df['setting'].isnull().sum()"
   ]
  },
  {
   "cell_type": "code",
   "execution_count": 48,
   "id": "a96a051a",
   "metadata": {
    "scrolled": true
   },
   "outputs": [
    {
     "data": {
      "text/plain": [
       "Egypt                                                     195\n",
       "Cairo (Egypt)                                              34\n",
       "England                                                    20\n",
       "Paris (France)                                             18\n",
       "The United States of America                               16\n",
       "                                                         ... \n",
       "Paris (France, 2022)                                        1\n",
       "North Africa, Algeria                                       1\n",
       "Persia, Egypt, India, Arabia, Thailand, Southeast Asia      1\n",
       "Mallorca (Spain)                                            1\n",
       "Chipping Cleghorn, England                                  1\n",
       "Name: setting, Length: 863, dtype: int64"
      ]
     },
     "execution_count": 48,
     "metadata": {},
     "output_type": "execute_result"
    }
   ],
   "source": [
    "df['setting'].value_counts()"
   ]
  },
  {
   "cell_type": "code",
   "execution_count": 49,
   "id": "0790a5fc",
   "metadata": {},
   "outputs": [],
   "source": [
    "df.drop('setting', axis=1, inplace=True)"
   ]
  },
  {
   "cell_type": "markdown",
   "id": "78562843",
   "metadata": {},
   "source": [
    "#### All Contributors Coulmn"
   ]
  },
  {
   "cell_type": "code",
   "execution_count": 50,
   "id": "7c4731ae",
   "metadata": {
    "scrolled": false
   },
   "outputs": [
    {
     "data": {
      "text/plain": [
       "0"
      ]
     },
     "execution_count": 50,
     "metadata": {},
     "output_type": "execute_result"
    }
   ],
   "source": [
    "df['all_contributors'].isnull().sum()"
   ]
  },
  {
   "cell_type": "code",
   "execution_count": 51,
   "id": "83da6292",
   "metadata": {},
   "outputs": [
    {
     "data": {
      "text/plain": [
       "unknown author                                         380\n",
       "أحمد خالد توفيق                                        120\n",
       "مصطفى محمود                                             57\n",
       "Naguib Mahfouz,نجيب محفوظ                               52\n",
       "Tawfiq Al-Hakim,توفيق الحكيم                            45\n",
       "                                                      ... \n",
       "وسام طارق                                                1\n",
       "José Mauro de Vasconcelos,أشرف القرقني (Translator)      1\n",
       "مصطفى الحسيني                                            1\n",
       "لطيفة خالد                                               1\n",
       "Robert Crais                                             1\n",
       "Name: all_contributors, Length: 8197, dtype: int64"
      ]
     },
     "execution_count": 51,
     "metadata": {},
     "output_type": "execute_result"
    }
   ],
   "source": [
    "df['all_contributors'].value_counts()"
   ]
  },
  {
   "cell_type": "markdown",
   "id": "4309e0e3",
   "metadata": {},
   "source": [
    "#### Number Of Editions Coulmn"
   ]
  },
  {
   "cell_type": "code",
   "execution_count": 52,
   "id": "4f8445c9",
   "metadata": {},
   "outputs": [
    {
     "data": {
      "text/plain": [
       "435"
      ]
     },
     "execution_count": 52,
     "metadata": {},
     "output_type": "execute_result"
    }
   ],
   "source": [
    "df['number_of_editions'].isnull().sum()"
   ]
  },
  {
   "cell_type": "code",
   "execution_count": 53,
   "id": "14a3f87c",
   "metadata": {},
   "outputs": [
    {
     "data": {
      "text/plain": [
       "Show all editions         4940\n",
       "Show all 2 editions       1603\n",
       "Show all 3 editions        827\n",
       "Show all 4 editions        512\n",
       "Show all 5 editions        332\n",
       "                          ... \n",
       "Show all 2116 editions       1\n",
       "Show all 405 editions        1\n",
       "Show all 1501 editions       1\n",
       "Show all 399 editions        1\n",
       "Show all 439 editions        1\n",
       "Name: number_of_editions, Length: 642, dtype: int64"
      ]
     },
     "execution_count": 53,
     "metadata": {},
     "output_type": "execute_result"
    }
   ],
   "source": [
    "df['number_of_editions'].value_counts()"
   ]
  },
  {
   "cell_type": "markdown",
   "id": "6df33e98",
   "metadata": {},
   "source": [
    "#### Currently Reading Coulmn"
   ]
  },
  {
   "cell_type": "code",
   "execution_count": 54,
   "id": "f3539930",
   "metadata": {},
   "outputs": [
    {
     "data": {
      "text/plain": [
       "3664"
      ]
     },
     "execution_count": 54,
     "metadata": {},
     "output_type": "execute_result"
    }
   ],
   "source": [
    "df['currently_reading'].isnull().sum()"
   ]
  },
  {
   "cell_type": "code",
   "execution_count": 55,
   "id": "ce3dcca6",
   "metadata": {},
   "outputs": [
    {
     "data": {
      "text/plain": [
       "1 person is currently reading         930\n",
       "2 people are currently reading        506\n",
       "3 people are currently reading        382\n",
       "4 people are currently reading        293\n",
       "5 people are currently reading        224\n",
       "                                     ... \n",
       "923 people are currently reading        1\n",
       "2,525 people are currently reading      1\n",
       "1,076 people are currently reading      1\n",
       "35.4k people are currently reading      1\n",
       "1,783 people are currently reading      1\n",
       "Name: currently_reading, Length: 1559, dtype: int64"
      ]
     },
     "execution_count": 55,
     "metadata": {},
     "output_type": "execute_result"
    }
   ],
   "source": [
    "df['currently_reading'].value_counts()"
   ]
  },
  {
   "cell_type": "markdown",
   "id": "8f61e8ba",
   "metadata": {},
   "source": [
    "#### To Read Coulmn"
   ]
  },
  {
   "cell_type": "code",
   "execution_count": 56,
   "id": "e7476371",
   "metadata": {
    "scrolled": true
   },
   "outputs": [
    {
     "data": {
      "text/plain": [
       "2177"
      ]
     },
     "execution_count": 56,
     "metadata": {},
     "output_type": "execute_result"
    }
   ],
   "source": [
    "df['to_read'].isnull().sum()"
   ]
  },
  {
   "cell_type": "code",
   "execution_count": 57,
   "id": "5fb81026",
   "metadata": {},
   "outputs": [
    {
     "data": {
      "text/plain": [
       "3 people want to read        201\n",
       "4 people want to read        160\n",
       "2 people want to read        151\n",
       "5 people want to read        151\n",
       "6 people want to read        121\n",
       "                            ... \n",
       "1,503 people want to read      1\n",
       "309k people want to read       1\n",
       "3,751 people want to read      1\n",
       "2,276 people want to read      1\n",
       "460 people want to read        1\n",
       "Name: to_read, Length: 3518, dtype: int64"
      ]
     },
     "execution_count": 57,
     "metadata": {},
     "output_type": "execute_result"
    }
   ],
   "source": [
    "df['to_read'].value_counts()"
   ]
  },
  {
   "cell_type": "markdown",
   "id": "3785e0d8",
   "metadata": {},
   "source": [
    "#### All Genres Coulmn"
   ]
  },
  {
   "cell_type": "code",
   "execution_count": 58,
   "id": "8940bb0b",
   "metadata": {
    "scrolled": true
   },
   "outputs": [
    {
     "data": {
      "text/plain": [
       "6266"
      ]
     },
     "execution_count": 58,
     "metadata": {},
     "output_type": "execute_result"
    }
   ],
   "source": [
    "df['all_genres'].isnull().sum()"
   ]
  },
  {
   "cell_type": "code",
   "execution_count": 59,
   "id": "873f8169",
   "metadata": {},
   "outputs": [
    {
     "data": {
      "text/plain": [
       "Novels                                                                                   239\n",
       "Novels,Fiction                                                                            85\n",
       "Fiction                                                                                   76\n",
       "Poetry                                                                                    57\n",
       "Novels,Literature                                                                         51\n",
       "                                                                                        ... \n",
       "Philosophy,Logic                                                                           1\n",
       "Fiction,Japan,Historical Fiction,Japanese Literature,Literature,Literary Fiction,Asia      1\n",
       "Nonfiction,Psychology,Self Help,Science,Business,Audiobook,Personal Development            1\n",
       "Nonfiction,Literature,Egypt                                                                1\n",
       "Mystery,Thriller,Fiction,Crime,Mystery Thriller,Suspense,Detective                         1\n",
       "Name: all_genres, Length: 4118, dtype: int64"
      ]
     },
     "execution_count": 59,
     "metadata": {},
     "output_type": "execute_result"
    }
   ],
   "source": [
    "df['all_genres'].value_counts()"
   ]
  },
  {
   "cell_type": "markdown",
   "id": "5fc762d3",
   "metadata": {},
   "source": [
    "## After Column by Column investigation:\n",
    "- publication info needs to be cleaned and extract date of publication\n",
    "- number of ratings needs to be converted to an integer field\n",
    "- number of reviews needs to be converted to an integer field\n",
    "- for each number of rating starts extracting the number and convert it to an integer field\n",
    "- fill null for author number of books and convert the field to integer\n",
    "- fill null for the author's number of followers and convert the field to an integer\n",
    "- book format column needs to be cleaned\n",
    "- extract publisher + publishing date form published column\n",
    "- extract if the book is translated or not using all contributors column\n",
    "- clean number of editions column + fill null + convert it to integer\n",
    "- clean number of reading column + fill null + convert it to integer\n",
    "- clean number of to read column + fill null + convert it to integer\n",
    "- fill null values in all genres\n",
    "- further cleaning will be done after a deep investigation through the cleaning"
   ]
  },
  {
   "cell_type": "markdown",
   "id": "505876b9",
   "metadata": {},
   "source": [
    "## Clean Data and Feature Engineering"
   ]
  },
  {
   "cell_type": "markdown",
   "id": "fd0df3a5",
   "metadata": {},
   "source": [
    "In the next cells I will fill publication Info then extract publisher and first date of publish then try to fill the missing data from publication info using first date of publish and vice versa then complete the data using the mode"
   ]
  },
  {
   "cell_type": "markdown",
   "id": "70bf2198",
   "metadata": {},
   "source": [
    "#### Publication Info & Published Coulmns"
   ]
  },
  {
   "cell_type": "code",
   "execution_count": 60,
   "id": "9097a50d",
   "metadata": {},
   "outputs": [],
   "source": [
    "def extract_date(date_str):\n",
    "    if date_str is not np.nan:\n",
    "        date_str = date_str.lower()\n",
    "        date = date_str.split('published')[1].strip()\n",
    "        return date\n",
    "    return np.nan\n",
    "\n",
    "df['publication_info'] = df['publication_info'].apply(extract_date)"
   ]
  },
  {
   "cell_type": "code",
   "execution_count": 61,
   "id": "251807b9",
   "metadata": {
    "scrolled": true
   },
   "outputs": [
    {
     "data": {
      "text/plain": [
       "921"
      ]
     },
     "execution_count": 61,
     "metadata": {},
     "output_type": "execute_result"
    }
   ],
   "source": [
    "df['publication_info'].isnull().sum()"
   ]
  },
  {
   "cell_type": "code",
   "execution_count": 62,
   "id": "df3382b8",
   "metadata": {},
   "outputs": [],
   "source": [
    "def extract_date_and_publisher(data):\n",
    "    if data is not np.nan:\n",
    "        data = data.lower().split('by')\n",
    "        if len(data) > 1:\n",
    "            return pd.Series([data[0], data[1]])\n",
    "        else:\n",
    "            return pd.Series([np.nan, data[0]])\n",
    "        return date\n",
    "    return pd.Series([np.nan, np.nan])\n",
    "df[['first_published_date', 'publisher']] = df['published'].apply(extract_date_and_publisher)"
   ]
  },
  {
   "cell_type": "code",
   "execution_count": 63,
   "id": "003995be",
   "metadata": {},
   "outputs": [
    {
     "data": {
      "text/plain": [
       "2262"
      ]
     },
     "execution_count": 63,
     "metadata": {},
     "output_type": "execute_result"
    }
   ],
   "source": [
    "df['first_published_date'].isnull().sum()"
   ]
  },
  {
   "cell_type": "markdown",
   "id": "186a2096",
   "metadata": {},
   "source": [
    "Fill publication info using first published date"
   ]
  },
  {
   "cell_type": "code",
   "execution_count": 64,
   "id": "96add0ec",
   "metadata": {},
   "outputs": [],
   "source": [
    "def fill_publication_info_using_first_published_date(row):\n",
    "    if row['publication_info'] is np.nan:\n",
    "        return row['first_published_date']\n",
    "    return row['publication_info']\n",
    "df['publication_info'] = df.apply(fill_publication_info_using_first_published_date, axis=1)"
   ]
  },
  {
   "cell_type": "code",
   "execution_count": 65,
   "id": "d9613f53",
   "metadata": {
    "scrolled": true
   },
   "outputs": [
    {
     "data": {
      "text/plain": [
       "921"
      ]
     },
     "execution_count": 65,
     "metadata": {},
     "output_type": "execute_result"
    }
   ],
   "source": [
    "df['publication_info'].isnull().sum() # number of nan after filling"
   ]
  },
  {
   "cell_type": "markdown",
   "id": "9c75d714",
   "metadata": {},
   "source": [
    "After trying to fill using first_published_date it doesn't change any thing so I will fill with mode then fill first_published_date using puplication_info then convert both to date fields "
   ]
  },
  {
   "cell_type": "code",
   "execution_count": 66,
   "id": "4032c7e5",
   "metadata": {},
   "outputs": [],
   "source": [
    "df['publication_info'].fillna(df['publication_info'].mode()[0], inplace=True)"
   ]
  },
  {
   "cell_type": "code",
   "execution_count": 67,
   "id": "31ee0ac4",
   "metadata": {},
   "outputs": [],
   "source": [
    "def first_published_date_using_fill_publication_info(row):\n",
    "    if row['first_published_date'] is np.nan:\n",
    "        return row['publication_info']\n",
    "    return row['first_published_date']\n",
    "df['first_published_date'] = df.apply(first_published_date_using_fill_publication_info, axis=1)"
   ]
  },
  {
   "cell_type": "code",
   "execution_count": 68,
   "id": "48085795",
   "metadata": {},
   "outputs": [],
   "source": [
    "df['first_published_date'].fillna(df['first_published_date'].mode()[0], inplace=True)"
   ]
  },
  {
   "cell_type": "markdown",
   "id": "f8cec6af",
   "metadata": {},
   "source": [
    "Convet publication_info and first_published_date it to datetime field"
   ]
  },
  {
   "cell_type": "code",
   "execution_count": 69,
   "id": "f6546d65",
   "metadata": {},
   "outputs": [],
   "source": [
    "def publication_info_to_date(date):\n",
    "    try:\n",
    "        return datetime.strptime(date.title(), '%B %d, %Y')\n",
    "    except Exception:\n",
    "        return df['publication_info'].mode()[0]\n",
    "df['publication_info'] = df['publication_info'].apply(publication_info_to_date)\n",
    "df['publication_info'] = pd.to_datetime(df['publication_info'], errors = 'coerce')"
   ]
  },
  {
   "cell_type": "code",
   "execution_count": 70,
   "id": "dc76d72b",
   "metadata": {},
   "outputs": [],
   "source": [
    "def first_published_date_to_date(date):\n",
    "    try:\n",
    "        return datetime.strptime(date.title(), '%B %d, %Y')\n",
    "    except Exception:\n",
    "        return df['first_published_date'].mode()[0]\n",
    "df['first_published_date'] = df['first_published_date'].apply(first_published_date_to_date)\n",
    "df['first_published_date'] = pd.to_datetime(df['first_published_date'], errors = 'coerce')"
   ]
  },
  {
   "cell_type": "markdown",
   "id": "1ee23577",
   "metadata": {},
   "source": [
    "Fill with the mode after errors from converting field to datetime became nulls"
   ]
  },
  {
   "cell_type": "code",
   "execution_count": 71,
   "id": "7014f3a9",
   "metadata": {},
   "outputs": [],
   "source": [
    "df['publication_info'].fillna(df['publication_info'].mode()[0], inplace=True)\n",
    "df['first_published_date'].fillna(df['first_published_date'].mode()[0], inplace=True)"
   ]
  },
  {
   "cell_type": "markdown",
   "id": "70e39e0e",
   "metadata": {},
   "source": [
    "Fill the publisher with the mode"
   ]
  },
  {
   "cell_type": "code",
   "execution_count": 72,
   "id": "a40ce9f4",
   "metadata": {},
   "outputs": [
    {
     "data": {
      "text/plain": [
       "524"
      ]
     },
     "execution_count": 72,
     "metadata": {},
     "output_type": "execute_result"
    }
   ],
   "source": [
    "df['publisher'].isnull().sum()"
   ]
  },
  {
   "cell_type": "code",
   "execution_count": 73,
   "id": "0b822486",
   "metadata": {},
   "outputs": [],
   "source": [
    "df['publisher'].fillna(df['publisher'].mode()[0], inplace=True)"
   ]
  },
  {
   "cell_type": "markdown",
   "id": "29a42b93",
   "metadata": {},
   "source": [
    "Drop the published column after extracting info"
   ]
  },
  {
   "cell_type": "code",
   "execution_count": 74,
   "id": "074569fa",
   "metadata": {},
   "outputs": [],
   "source": [
    "df.drop('published', axis=1, inplace=True)"
   ]
  },
  {
   "cell_type": "markdown",
   "id": "e301762e",
   "metadata": {},
   "source": [
    "#### Number Of Rating Coulmn"
   ]
  },
  {
   "cell_type": "code",
   "execution_count": 75,
   "id": "3b18d8ab",
   "metadata": {},
   "outputs": [],
   "source": [
    "def get_numbers(rating):\n",
    "    return int(''.join(re.findall('\\d+', rating)))\n",
    "\n",
    "df['number_of_rattings'] = df['number_of_rattings'].apply(get_numbers)"
   ]
  },
  {
   "cell_type": "markdown",
   "id": "a9c98bb6",
   "metadata": {},
   "source": [
    "#### Number Of Reviews Coulmn"
   ]
  },
  {
   "cell_type": "code",
   "execution_count": 76,
   "id": "f07d9e88",
   "metadata": {},
   "outputs": [],
   "source": [
    "df['number_of_reviews'] = df['number_of_reviews'].apply(get_numbers)"
   ]
  },
  {
   "cell_type": "markdown",
   "id": "9d4ca1e8",
   "metadata": {},
   "source": [
    "In the following cells I will clean number of stars rating for (5,4,3,2,1) stars by removing the percentage and extracting the number then converting to integer"
   ]
  },
  {
   "cell_type": "markdown",
   "id": "0930dd30",
   "metadata": {},
   "source": [
    "#### Number Of 5 Stars Rating Coulmn"
   ]
  },
  {
   "cell_type": "code",
   "execution_count": 77,
   "id": "f92e183d",
   "metadata": {},
   "outputs": [],
   "source": [
    "def extract_number_of_ratings(rating):\n",
    "    rating = rating.split('(', 1)[0]\n",
    "    return int(''.join(re.findall('\\d+', rating)))\n",
    "\n",
    "df['number_of_5_stars_rating'] = df['number_of_5_stars_rating'].apply(extract_number_of_ratings)"
   ]
  },
  {
   "cell_type": "markdown",
   "id": "21988a66",
   "metadata": {},
   "source": [
    "#### Number Of 4 Stars Rating Coulmn"
   ]
  },
  {
   "cell_type": "code",
   "execution_count": 78,
   "id": "6593ac96",
   "metadata": {},
   "outputs": [],
   "source": [
    "df['number_of_4_stars_rating'] = df['number_of_4_stars_rating'].apply(extract_number_of_ratings)"
   ]
  },
  {
   "cell_type": "markdown",
   "id": "403797df",
   "metadata": {},
   "source": [
    "#### Number Of 3 Stars Rating Coulmn"
   ]
  },
  {
   "cell_type": "code",
   "execution_count": 79,
   "id": "40132cc5",
   "metadata": {},
   "outputs": [],
   "source": [
    "df['number_of_3_stars_rating'] = df['number_of_3_stars_rating'].apply(extract_number_of_ratings)"
   ]
  },
  {
   "cell_type": "markdown",
   "id": "273da1d4",
   "metadata": {},
   "source": [
    "#### Number Of 2 Stars Rating Coulmn"
   ]
  },
  {
   "cell_type": "code",
   "execution_count": 80,
   "id": "0809669d",
   "metadata": {},
   "outputs": [],
   "source": [
    "df['number_of_2_stars_rating'] = df['number_of_2_stars_rating'].apply(extract_number_of_ratings)"
   ]
  },
  {
   "cell_type": "markdown",
   "id": "17508b46",
   "metadata": {},
   "source": [
    "#### Number Of 1 Stars Rating Coulmn"
   ]
  },
  {
   "cell_type": "code",
   "execution_count": 81,
   "id": "f7d2222e",
   "metadata": {},
   "outputs": [],
   "source": [
    "df['number_of_1_stars_rating'] = df['number_of_1_stars_rating'].apply(extract_number_of_ratings)"
   ]
  },
  {
   "cell_type": "markdown",
   "id": "435369ce",
   "metadata": {},
   "source": [
    "#### Author Number Of Books Coulmn\n",
    "Fill the nan with 1 becouse at least the author own this book"
   ]
  },
  {
   "cell_type": "code",
   "execution_count": 82,
   "id": "2fd08219",
   "metadata": {},
   "outputs": [],
   "source": [
    "def handle_author_no_of_books(no_of_books):\n",
    "    if no_of_books is not np.nan:\n",
    "        return int(''.join(re.findall('\\d+', no_of_books)))\n",
    "    return 1\n",
    "\n",
    "df['author_no_of_books'] = df['author_no_of_books'].apply(handle_author_no_of_books)"
   ]
  },
  {
   "cell_type": "markdown",
   "id": "4f1a47ca",
   "metadata": {},
   "source": [
    "#### Author Followers Coulmn\n",
    "Extract number of followers from string and if nan replace it with 0 followers"
   ]
  },
  {
   "cell_type": "code",
   "execution_count": 83,
   "id": "415a7cb6",
   "metadata": {},
   "outputs": [],
   "source": [
    "def extract_followers(followers):\n",
    "    if followers is not np.nan:\n",
    "        return int(''.join(re.findall('\\d+', followers)))\n",
    "    return 0\n",
    "\n",
    "df['author_followers'] = df['author_followers'].apply(extract_followers)"
   ]
  },
  {
   "cell_type": "markdown",
   "id": "bce68ae7",
   "metadata": {},
   "source": [
    "#### Original Title Coulmn\n",
    "In this column if the book is translated the original title will apear if not I will fill it with the title"
   ]
  },
  {
   "cell_type": "code",
   "execution_count": 84,
   "id": "a27dba09",
   "metadata": {},
   "outputs": [],
   "source": [
    "def fill_original_title(row):\n",
    "    if row['original_title'] is np.nan:\n",
    "        return row['title']\n",
    "    return row['original_title']\n",
    "\n",
    "df['original_title'] = df.apply(fill_original_title, axis=1)"
   ]
  },
  {
   "cell_type": "markdown",
   "id": "87855e4a",
   "metadata": {},
   "source": [
    "#### Book Format Coulmn\n",
    "In this section I will extract book type and number of pages and fill null for the new columns"
   ]
  },
  {
   "cell_type": "code",
   "execution_count": 85,
   "id": "f5bfd855",
   "metadata": {},
   "outputs": [
    {
     "data": {
      "text/plain": [
       "513"
      ]
     },
     "execution_count": 85,
     "metadata": {},
     "output_type": "execute_result"
    }
   ],
   "source": [
    "df['book_format'].isnull().sum()"
   ]
  },
  {
   "cell_type": "markdown",
   "id": "ec8de10a",
   "metadata": {},
   "source": [
    "Extract book type and number of pages from book_format column"
   ]
  },
  {
   "cell_type": "code",
   "execution_count": 86,
   "id": "f49188f5",
   "metadata": {},
   "outputs": [],
   "source": [
    "def get_book_type_and_number_of_pages(book_format):\n",
    "    if book_format is not np.nan:\n",
    "        book_format = book_format.split(',')\n",
    "        if len(book_format) > 1:\n",
    "            return pd.Series([book_format[0], book_format[1].strip()])\n",
    "        return pd.Series([np.nan, book_format[0].strip()])\n",
    "    return pd.Series([np.nan, np.nan])\n",
    "df[['no_of_papers', 'book_type']] = df['book_format'].apply(get_book_type_and_number_of_pages)"
   ]
  },
  {
   "cell_type": "markdown",
   "id": "639bbbae",
   "metadata": {},
   "source": [
    "some book_type rows get number of pages so if pages in book_type column assign it to no_of_pages column"
   ]
  },
  {
   "cell_type": "code",
   "execution_count": 87,
   "id": "39d473a3",
   "metadata": {},
   "outputs": [],
   "source": [
    "def clean_book_type_and_no_of_paper(row):\n",
    "    if type(row['book_type']) != type(np.nan):\n",
    "        if 'pages' in row['book_type']:\n",
    "            return pd.Series([row['book_type'], np.nan])\n",
    "    return pd.Series([row['no_of_papers'], row['book_type']])\n",
    "df[['no_of_papers', 'book_type']] = df.apply(clean_book_type_and_no_of_paper, axis=1)"
   ]
  },
  {
   "cell_type": "code",
   "execution_count": 88,
   "id": "05bc1962",
   "metadata": {
    "scrolled": true
   },
   "outputs": [
    {
     "data": {
      "text/html": [
       "<div>\n",
       "<style scoped>\n",
       "    .dataframe tbody tr th:only-of-type {\n",
       "        vertical-align: middle;\n",
       "    }\n",
       "\n",
       "    .dataframe tbody tr th {\n",
       "        vertical-align: top;\n",
       "    }\n",
       "\n",
       "    .dataframe thead th {\n",
       "        text-align: right;\n",
       "    }\n",
       "</style>\n",
       "<table border=\"1\" class=\"dataframe\">\n",
       "  <thead>\n",
       "    <tr style=\"text-align: right;\">\n",
       "      <th></th>\n",
       "      <th>title</th>\n",
       "      <th>book_format</th>\n",
       "      <th>no_of_papers</th>\n",
       "      <th>book_type</th>\n",
       "    </tr>\n",
       "  </thead>\n",
       "  <tbody>\n",
       "    <tr>\n",
       "      <th>0</th>\n",
       "      <td>ساق البامبو</td>\n",
       "      <td>400 pages, Paperback</td>\n",
       "      <td>400 pages</td>\n",
       "      <td>Paperback</td>\n",
       "    </tr>\n",
       "    <tr>\n",
       "      <th>1</th>\n",
       "      <td>ثلاثية غرناطة</td>\n",
       "      <td>502 pages, Paperback</td>\n",
       "      <td>502 pages</td>\n",
       "      <td>Paperback</td>\n",
       "    </tr>\n",
       "    <tr>\n",
       "      <th>2</th>\n",
       "      <td>عزازيل</td>\n",
       "      <td>470 pages, Paperback</td>\n",
       "      <td>470 pages</td>\n",
       "      <td>Paperback</td>\n",
       "    </tr>\n",
       "    <tr>\n",
       "      <th>3</th>\n",
       "      <td>Season of Migration to the North</td>\n",
       "      <td>176 pages, Paperback</td>\n",
       "      <td>176 pages</td>\n",
       "      <td>Paperback</td>\n",
       "    </tr>\n",
       "    <tr>\n",
       "      <th>4</th>\n",
       "      <td>الأسود يليق بك</td>\n",
       "      <td>331 pages, Paperback</td>\n",
       "      <td>331 pages</td>\n",
       "      <td>Paperback</td>\n",
       "    </tr>\n",
       "    <tr>\n",
       "      <th>...</th>\n",
       "      <td>...</td>\n",
       "      <td>...</td>\n",
       "      <td>...</td>\n",
       "      <td>...</td>\n",
       "    </tr>\n",
       "    <tr>\n",
       "      <th>1543</th>\n",
       "      <td>منتجع الساحرات</td>\n",
       "      <td>175 pages, Paperback</td>\n",
       "      <td>175 pages</td>\n",
       "      <td>Paperback</td>\n",
       "    </tr>\n",
       "    <tr>\n",
       "      <th>1544</th>\n",
       "      <td>قبضة ماء</td>\n",
       "      <td>240 pages, Paperback</td>\n",
       "      <td>240 pages</td>\n",
       "      <td>Paperback</td>\n",
       "    </tr>\n",
       "    <tr>\n",
       "      <th>1545</th>\n",
       "      <td>The Watchman</td>\n",
       "      <td>312 pages, Paperback</td>\n",
       "      <td>312 pages</td>\n",
       "      <td>Paperback</td>\n",
       "    </tr>\n",
       "    <tr>\n",
       "      <th>1546</th>\n",
       "      <td>الأرجوحة</td>\n",
       "      <td>159 pages, Paperback</td>\n",
       "      <td>159 pages</td>\n",
       "      <td>Paperback</td>\n",
       "    </tr>\n",
       "    <tr>\n",
       "      <th>1547</th>\n",
       "      <td>خيار الصفر</td>\n",
       "      <td>360 pages, Hardcover</td>\n",
       "      <td>360 pages</td>\n",
       "      <td>Hardcover</td>\n",
       "    </tr>\n",
       "  </tbody>\n",
       "</table>\n",
       "<p>12704 rows × 4 columns</p>\n",
       "</div>"
      ],
      "text/plain": [
       "                                 title           book_format no_of_papers  \\\n",
       "0                          ساق البامبو  400 pages, Paperback    400 pages   \n",
       "1                        ثلاثية غرناطة  502 pages, Paperback    502 pages   \n",
       "2                               عزازيل  470 pages, Paperback    470 pages   \n",
       "3     Season of Migration to the North  176 pages, Paperback    176 pages   \n",
       "4                       الأسود يليق بك  331 pages, Paperback    331 pages   \n",
       "...                                ...                   ...          ...   \n",
       "1543                    منتجع الساحرات  175 pages, Paperback    175 pages   \n",
       "1544                          قبضة ماء  240 pages, Paperback    240 pages   \n",
       "1545                      The Watchman  312 pages, Paperback    312 pages   \n",
       "1546                          الأرجوحة  159 pages, Paperback    159 pages   \n",
       "1547                        خيار الصفر  360 pages, Hardcover    360 pages   \n",
       "\n",
       "      book_type  \n",
       "0     Paperback  \n",
       "1     Paperback  \n",
       "2     Paperback  \n",
       "3     Paperback  \n",
       "4     Paperback  \n",
       "...         ...  \n",
       "1543  Paperback  \n",
       "1544  Paperback  \n",
       "1545  Paperback  \n",
       "1546  Paperback  \n",
       "1547  Hardcover  \n",
       "\n",
       "[12704 rows x 4 columns]"
      ]
     },
     "execution_count": 88,
     "metadata": {},
     "output_type": "execute_result"
    }
   ],
   "source": [
    "df[['title','book_format','no_of_papers', 'book_type']]"
   ]
  },
  {
   "cell_type": "markdown",
   "id": "f60b3c79",
   "metadata": {},
   "source": [
    "Limit book type to the main categories"
   ]
  },
  {
   "cell_type": "code",
   "execution_count": 89,
   "id": "aea817ea",
   "metadata": {
    "scrolled": true
   },
   "outputs": [
    {
     "data": {
      "text/plain": [
       "Paperback                9277\n",
       "Hardcover                 955\n",
       "ebook                     242\n",
       "Mass Market Paperback      81\n",
       "Unknown Binding            39\n",
       "Kindle Edition             25\n",
       "paperback                  20\n",
       "kindle_edition              7\n",
       "Audiobook                   6\n",
       "Tankobon Softcover          4\n",
       "غلاف كرتوني                 3\n",
       "Paperback Bunko             2\n",
       "Library Binding             2\n",
       "غلاف عادي                   2\n",
       "Board book                  2\n",
       "perfect                     2\n",
       "Book                        1\n",
       "غلاف عادي، 24×17،           1\n",
       "hardcover                   1\n",
       "PDF                         1\n",
       "CD-ROM                      1\n",
       "Audio CD                    1\n",
       "hard cover                  1\n",
       "book                        1\n",
       "Ebook & Paperback           1\n",
       "Spiral-bound                1\n",
       "Board Book                  1\n",
       "Perfect Paperback           1\n",
       "A5                          1\n",
       "paper book                  1\n",
       "paperback_shinsho           1\n",
       "papperback                  1\n",
       "Novelty Book                1\n",
       "Office Product              1\n",
       "Poche                       1\n",
       "Staple Bound                1\n",
       "رواية                       1\n",
       "Name: book_type, dtype: int64"
      ]
     },
     "execution_count": 89,
     "metadata": {},
     "output_type": "execute_result"
    }
   ],
   "source": [
    "df['book_type'].value_counts()"
   ]
  },
  {
   "cell_type": "code",
   "execution_count": 90,
   "id": "8a27db14",
   "metadata": {},
   "outputs": [],
   "source": [
    "to_be_replaced = {\n",
    "    'paperback': 'Paperback', \n",
    "    'kindle_edition': 'Kindle Edition',\n",
    "}\n",
    "df['book_type'].replace(to_be_replaced, inplace=True)"
   ]
  },
  {
   "cell_type": "code",
   "execution_count": 91,
   "id": "30158499",
   "metadata": {},
   "outputs": [],
   "source": [
    "def remove_unnecessary_book_types(book_type):\n",
    "    if book_type not in ['Paperback', 'Hardcover', 'Mass Market Paperback', 'Kindle Edition', 'Audiobook']:\n",
    "        return 'Paperback'\n",
    "    return book_type\n",
    "\n",
    "df['book_type'] = df['book_type'].apply(remove_unnecessary_book_types)"
   ]
  },
  {
   "cell_type": "markdown",
   "id": "f21b3aae",
   "metadata": {},
   "source": [
    "Extract number of pages and convert the column to integer and then fill the column null with the median"
   ]
  },
  {
   "cell_type": "code",
   "execution_count": 92,
   "id": "4da4bd46",
   "metadata": {},
   "outputs": [],
   "source": [
    "def extract_number_of_pages(no_of_pages):\n",
    "    if type(no_of_pages) != type(np.nan):\n",
    "        return int(''.join(re.findall('\\d+', no_of_pages)))\n",
    "    return np.nan\n",
    "\n",
    "df['no_of_papers'] = df['no_of_papers'].apply(extract_number_of_pages)"
   ]
  },
  {
   "cell_type": "code",
   "execution_count": 93,
   "id": "7dc8b4b9",
   "metadata": {
    "scrolled": true
   },
   "outputs": [
    {
     "data": {
      "text/plain": [
       "1588"
      ]
     },
     "execution_count": 93,
     "metadata": {},
     "output_type": "execute_result"
    }
   ],
   "source": [
    "df['no_of_papers'].isnull().sum()"
   ]
  },
  {
   "cell_type": "code",
   "execution_count": 94,
   "id": "7f398dcd",
   "metadata": {},
   "outputs": [],
   "source": [
    "df['no_of_papers'].fillna(int(df['no_of_papers'].median()), inplace=True)"
   ]
  },
  {
   "cell_type": "markdown",
   "id": "17daef00",
   "metadata": {},
   "source": [
    "Remove book_format column after extracting all the needed info"
   ]
  },
  {
   "cell_type": "code",
   "execution_count": 95,
   "id": "4f999868",
   "metadata": {},
   "outputs": [],
   "source": [
    "df.drop('book_format', axis=1, inplace=True)"
   ]
  },
  {
   "cell_type": "markdown",
   "id": "936dad81",
   "metadata": {},
   "source": [
    "#### Language Coulmn\n",
    "In this column, we will fill the nulls by finding English letters in the title if found then English if not then Arabic book then remove all other languages because in this analysis we want to target Arabic books only then remove the language column because it only contains one value which is Arabic"
   ]
  },
  {
   "cell_type": "code",
   "execution_count": 96,
   "id": "cdd9d34a",
   "metadata": {},
   "outputs": [
    {
     "data": {
      "text/plain": [
       "1538"
      ]
     },
     "execution_count": 96,
     "metadata": {},
     "output_type": "execute_result"
    }
   ],
   "source": [
    "df['language'].isnull().sum()"
   ]
  },
  {
   "cell_type": "code",
   "execution_count": 97,
   "id": "692a5845",
   "metadata": {},
   "outputs": [],
   "source": [
    "def book_language_from_book_title(row):\n",
    "    if row['language'] is np.nan:\n",
    "        if any([letter in row['title'].lower() for letter in string.ascii_lowercase]):\n",
    "            return 'English'\n",
    "        else:\n",
    "            return 'Arabic'\n",
    "    return row['language']\n",
    "\n",
    "df['language'] = df.apply(book_language_from_book_title, axis=1)"
   ]
  },
  {
   "cell_type": "code",
   "execution_count": 98,
   "id": "907fd144",
   "metadata": {
    "scrolled": true
   },
   "outputs": [
    {
     "data": {
      "text/plain": [
       "Arabic                                    11752\n",
       "English                                     785\n",
       "French                                       97\n",
       "Hindi                                        11\n",
       "Turkish                                       8\n",
       "German                                        8\n",
       "Spanish; Castilian                            6\n",
       "Persian                                       5\n",
       "Italian                                       4\n",
       "Dutch; Flemish                                4\n",
       "Aragonese                                     3\n",
       "Altaic (Other)                                2\n",
       "Portuguese                                    2\n",
       "Avaric                                        2\n",
       "Multiple languages                            2\n",
       "Estonian                                      1\n",
       "Oxford Introductions to Language Study        1\n",
       "Romanian                                      1\n",
       "Latvian                                       1\n",
       "Arapaho                                       1\n",
       "Malayalam                                     1\n",
       "Arawak                                        1\n",
       "Japanese                                      1\n",
       "Chinese                                       1\n",
       "Abkhazian                                     1\n",
       "Danish                                        1\n",
       "Apache languages                              1\n",
       "Polish                                        1\n",
       "Name: language, dtype: int64"
      ]
     },
     "execution_count": 98,
     "metadata": {},
     "output_type": "execute_result"
    }
   ],
   "source": [
    "df['language'].value_counts()"
   ]
  },
  {
   "cell_type": "code",
   "execution_count": 99,
   "id": "4255d261",
   "metadata": {},
   "outputs": [],
   "source": [
    "def convert_non_arabic_langauge_books_to_nan(language):\n",
    "    if language != 'Arabic':\n",
    "        return np.nan\n",
    "    return language\n",
    "df['language'] = df['language'].apply(convert_non_arabic_langauge_books_to_nan)"
   ]
  },
  {
   "cell_type": "code",
   "execution_count": 100,
   "id": "418069a3",
   "metadata": {},
   "outputs": [],
   "source": [
    "df.dropna(subset='language', inplace=True)"
   ]
  },
  {
   "cell_type": "code",
   "execution_count": 101,
   "id": "8e9fa966",
   "metadata": {},
   "outputs": [],
   "source": [
    "df.drop('language', axis=1, inplace=True)"
   ]
  },
  {
   "cell_type": "code",
   "execution_count": 102,
   "id": "2360db62",
   "metadata": {},
   "outputs": [
    {
     "name": "stdout",
     "output_type": "stream",
     "text": [
      "<class 'pandas.core.frame.DataFrame'>\n",
      "Int64Index: 11752 entries, 0 to 1547\n",
      "Data columns (total 25 columns):\n",
      " #   Column                    Non-Null Count  Dtype         \n",
      "---  ------                    --------------  -----         \n",
      " 0   ISBN                      10575 non-null  object        \n",
      " 1   goodreads_id              11752 non-null  object        \n",
      " 2   title                     11752 non-null  object        \n",
      " 3   publication_info          11752 non-null  datetime64[ns]\n",
      " 4   number_of_rattings        11752 non-null  int64         \n",
      " 5   number_of_reviews         11752 non-null  int64         \n",
      " 6   book_rate                 11752 non-null  float64       \n",
      " 7   number_of_5_stars_rating  11752 non-null  int64         \n",
      " 8   number_of_4_stars_rating  11752 non-null  int64         \n",
      " 9   number_of_3_stars_rating  11752 non-null  int64         \n",
      " 10  number_of_2_stars_rating  11752 non-null  int64         \n",
      " 11  number_of_1_stars_rating  11752 non-null  int64         \n",
      " 12  author_name               11752 non-null  object        \n",
      " 13  author_no_of_books        11752 non-null  int64         \n",
      " 14  author_followers          11752 non-null  int64         \n",
      " 15  original_title            11752 non-null  object        \n",
      " 16  all_contributors          11752 non-null  object        \n",
      " 17  number_of_editions        11351 non-null  object        \n",
      " 18  currently_reading         8502 non-null   object        \n",
      " 19  to_read                   9917 non-null   object        \n",
      " 20  all_genres                5954 non-null   object        \n",
      " 21  first_published_date      11752 non-null  datetime64[ns]\n",
      " 22  publisher                 11752 non-null  object        \n",
      " 23  no_of_papers              11752 non-null  float64       \n",
      " 24  book_type                 11752 non-null  object        \n",
      "dtypes: datetime64[ns](2), float64(2), int64(9), object(12)\n",
      "memory usage: 2.3+ MB\n"
     ]
    }
   ],
   "source": [
    "df.info()"
   ]
  },
  {
   "cell_type": "markdown",
   "id": "87414b87",
   "metadata": {},
   "source": [
    "#### All Contributors Coulmn\n",
    "In this column I will extract if the book is translated or not and who is the translator for the book"
   ]
  },
  {
   "cell_type": "code",
   "execution_count": 103,
   "id": "50948daa",
   "metadata": {},
   "outputs": [],
   "source": [
    "def get_translated_books(contributors):\n",
    "    contributors = contributors.split(',')\n",
    "    for contributor in contributors:\n",
    "        if 'Translator' in contributor or 'ترجمة' in contributor:\n",
    "            if 'Translator' in contributor:\n",
    "                translator = contributor.split('Translator')[0].strip().replace('(', '').replace(')', '').replace('\\xa0', '')\n",
    "            else:\n",
    "                translator = contributor.split('ترجمة')[0].strip().replace('(', '').replace(')', '').replace('\\xa0', '')\n",
    "            return pd.Series([True, translator])\n",
    "    return pd.Series([False, np.nan])\n",
    "\n",
    "df[['is_translated', 'translator']] = df['all_contributors'].apply(get_translated_books)"
   ]
  },
  {
   "cell_type": "markdown",
   "id": "5b7e1acf",
   "metadata": {},
   "source": [
    "#### Number Of Editions Coulmn\n",
    "In this column, I will extract the number of the edition of the books and if null give it 1 because at least this book counts as the original edition"
   ]
  },
  {
   "cell_type": "code",
   "execution_count": 104,
   "id": "fb9dd5cb",
   "metadata": {},
   "outputs": [],
   "source": [
    "def clean_number_of_editions(edition):\n",
    "    if edition is not np.nan:\n",
    "        try:\n",
    "            return int(''.join(re.findall('\\d+', edition)))\n",
    "        except Exception:\n",
    "            return 1\n",
    "    return 1\n",
    "\n",
    "df['number_of_editions'] = df['number_of_editions'].apply(clean_number_of_editions)"
   ]
  },
  {
   "cell_type": "markdown",
   "id": "03b78764",
   "metadata": {},
   "source": [
    "#### Currently Reading Coulmn\n",
    "In this column, I will extract the number of currently reading and if null give him 0 currently reading"
   ]
  },
  {
   "cell_type": "code",
   "execution_count": 105,
   "id": "22440bc2",
   "metadata": {},
   "outputs": [],
   "source": [
    "def extract_currently_reading(currently_reading):\n",
    "    if currently_reading is not np.nan:\n",
    "        currently_reading = currently_reading.replace(' people are currently reading', '').replace(' person is currently reading', '').replace(',', '')\n",
    "        if 'k' in currently_reading:\n",
    "            currently_reading = int(float(currently_reading.replace('k', '')) * 1000)\n",
    "        elif 'm' in currently_reading:\n",
    "            currently_reading = int(float(currently_reading.replace('m', '')) * 1000000)\n",
    "        else:\n",
    "            currently_reading = int(currently_reading)\n",
    "        return currently_reading\n",
    "    return 0\n",
    "\n",
    "\n",
    "df['currently_reading'] = df['currently_reading'].apply(extract_currently_reading)"
   ]
  },
  {
   "cell_type": "markdown",
   "id": "7e6915c4",
   "metadata": {},
   "source": [
    "#### To Read Coulmn\n",
    "In this column, I will extract the number of to read and if null give him 0 to read"
   ]
  },
  {
   "cell_type": "code",
   "execution_count": 106,
   "id": "f7ea2e18",
   "metadata": {},
   "outputs": [],
   "source": [
    "def extract_to_read(to_read):\n",
    "    if to_read is not np.nan:\n",
    "        to_read = to_read.replace(' people want to read', '').replace(' person wants to read', '').replace(',', '')\n",
    "        if 'k' in to_read:\n",
    "            to_read = int(float(to_read.replace('k', '')) * 1000)\n",
    "        elif 'm' in to_read:\n",
    "            to_read = int(float(to_read.replace('m', '')) * 1000000)\n",
    "        else:\n",
    "            to_read = int(to_read)\n",
    "        return to_read\n",
    "    return 0\n",
    "df['to_read'] = df['to_read'].apply(extract_to_read)"
   ]
  },
  {
   "cell_type": "markdown",
   "id": "17a0889d",
   "metadata": {},
   "source": [
    "#### All Genres Coulmn"
   ]
  },
  {
   "cell_type": "code",
   "execution_count": 107,
   "id": "17f540ad",
   "metadata": {},
   "outputs": [],
   "source": [
    "all_important_generes = ['Novels', 'Philosophy', 'Nonfiction', 'Poetry', 'Literature', 'Fiction', 'Biography', 'Short Stories', 'Mystery', 'History', 'Religion', 'Childrens', 'Classics', 'Fantasy', 'Politics', 'Human Development', 'Psychology', 'Business', 'Thriller', 'Crime', 'Horror', 'Sports', 'Plays', 'Romance']\n",
    "def extract_main_sub_genres(all_genres):\n",
    "    if all_genres is not np.nan:\n",
    "        all_genres = all_genres.split(',')\n",
    "        main_genre = None\n",
    "        sub_genre = None\n",
    "        \n",
    "        if len(all_genres) == 1:\n",
    "            main_genre = sub_genre = all_genres[0]\n",
    "        else:\n",
    "            # fill main genre\n",
    "            for genere in all_important_generes:\n",
    "                if genere in all_genres:\n",
    "                    main_genre = genere\n",
    "                    all_genres.remove(genere)\n",
    "                    break\n",
    "            if not main_genre:\n",
    "                main_genre = all_genres[0]\n",
    "                all_genres.remove(all_genres[0])\n",
    "\n",
    "            # fill sub genre\n",
    "            if len(all_genres) == 1:\n",
    "                sub_genre = all_genres[0]\n",
    "            else:\n",
    "                for genere in all_important_generes:\n",
    "                    if genere in all_genres:\n",
    "                        sub_genre = genere\n",
    "                        break\n",
    "                if not sub_genre:\n",
    "                    sub_genre = all_genres[0]\n",
    "        return pd.Series([main_genre, sub_genre])\n",
    "    return pd.Series([np.nan, np.nan])\n",
    "df[['main_genre', 'sub_genre']] = df['all_genres'].apply(extract_main_sub_genres)       "
   ]
  },
  {
   "cell_type": "code",
   "execution_count": 108,
   "id": "c976ea73",
   "metadata": {
    "scrolled": false
   },
   "outputs": [
    {
     "data": {
      "text/plain": [
       "Literature            1739\n",
       "Fiction               1067\n",
       "Nonfiction             373\n",
       "Mystery                310\n",
       "Novels                 238\n",
       "                      ... \n",
       "Turkish                  1\n",
       "Theory                   1\n",
       "Medicine                 1\n",
       "British Literature       1\n",
       "Sports                   1\n",
       "Name: sub_genre, Length: 138, dtype: int64"
      ]
     },
     "execution_count": 108,
     "metadata": {},
     "output_type": "execute_result"
    }
   ],
   "source": [
    "df['sub_genre'].value_counts()"
   ]
  },
  {
   "cell_type": "code",
   "execution_count": 109,
   "id": "38f0fcf4",
   "metadata": {},
   "outputs": [
    {
     "data": {
      "text/plain": [
       "5798"
      ]
     },
     "execution_count": 109,
     "metadata": {},
     "output_type": "execute_result"
    }
   ],
   "source": [
    "df['all_genres'].isnull().sum()"
   ]
  },
  {
   "cell_type": "markdown",
   "id": "58cb5fdb",
   "metadata": {},
   "source": [
    "I will try to train machine learning and deep learning algorithms to predict book genre based on title to fill the null rows"
   ]
  },
  {
   "cell_type": "code",
   "execution_count": 110,
   "id": "1b8886e2",
   "metadata": {},
   "outputs": [
    {
     "name": "stdout",
     "output_type": "stream",
     "text": [
      "Accuracy: 0.5247691015952981\n"
     ]
    }
   ],
   "source": [
    "from sklearn.feature_extraction.text import CountVectorizer\n",
    "from sklearn.svm import SVC\n",
    "from sklearn.model_selection import train_test_split\n",
    "from sklearn.metrics import accuracy_score\n",
    "\n",
    "# Load the books_df data into a pandas dataframe\n",
    "books_df = df[df['all_genres'].isnull() == False][['title', 'main_genre']]\n",
    "\n",
    "# Split the data into training and testing sets\n",
    "train_data, test_data, train_labels, test_labels = train_test_split(books_df[\"title\"], books_df[\"main_genre\"], test_size=0.2, random_state=42)\n",
    "\n",
    "# Convert the book titles into a bag-of-words representation\n",
    "vectorizer = CountVectorizer()\n",
    "train_vectors = vectorizer.fit_transform(train_data)\n",
    "test_vectors = vectorizer.transform(test_data)\n",
    "\n",
    "# Train a SVM classifier on the training data\n",
    "clf = SVC(kernel='linear')\n",
    "clf.fit(train_vectors, train_labels)\n",
    "\n",
    "# Predict the book genres for the test data\n",
    "predictions = clf.predict(test_vectors)\n",
    "\n",
    "# Calculate the accuracy of the classifier\n",
    "accuracy = accuracy_score(test_labels, predictions)\n",
    "print(\"Accuracy:\", accuracy)"
   ]
  },
  {
   "cell_type": "code",
   "execution_count": 111,
   "id": "7b065d96",
   "metadata": {},
   "outputs": [
    {
     "name": "stdout",
     "output_type": "stream",
     "text": [
      "Epoch 1/10\n",
      "149/149 [==============================] - 4s 19ms/step - loss: 2.1972 - accuracy: 0.4422\n",
      "Epoch 2/10\n",
      "149/149 [==============================] - 3s 20ms/step - loss: 1.7087 - accuracy: 0.5144\n",
      "Epoch 3/10\n",
      "149/149 [==============================] - 3s 19ms/step - loss: 1.3017 - accuracy: 0.6454\n",
      "Epoch 4/10\n",
      "149/149 [==============================] - 3s 20ms/step - loss: 0.9123 - accuracy: 0.7667\n",
      "Epoch 5/10\n",
      "149/149 [==============================] - 3s 22ms/step - loss: 0.6608 - accuracy: 0.8299\n",
      "Epoch 6/10\n",
      "149/149 [==============================] - 3s 19ms/step - loss: 0.5125 - accuracy: 0.8616\n",
      "Epoch 7/10\n",
      "149/149 [==============================] - 3s 20ms/step - loss: 0.4307 - accuracy: 0.8849\n",
      "Epoch 8/10\n",
      "149/149 [==============================] - 3s 21ms/step - loss: 0.3643 - accuracy: 0.9005\n",
      "Epoch 9/10\n",
      "149/149 [==============================] - 3s 19ms/step - loss: 0.3124 - accuracy: 0.9156\n",
      "Epoch 10/10\n",
      "149/149 [==============================] - 3s 19ms/step - loss: 0.2763 - accuracy: 0.9246\n",
      "38/38 [==============================] - 0s 4ms/step\n",
      "Accuracy: 0.4995801847187238\n"
     ]
    }
   ],
   "source": [
    "from keras.preprocessing.text import Tokenizer\n",
    "from tensorflow.keras.preprocessing.sequence import pad_sequences\n",
    "from keras.layers import Embedding, Conv1D, GlobalMaxPooling1D, Dense\n",
    "from keras.models import Sequential\n",
    "from sklearn.model_selection import train_test_split\n",
    "from sklearn.preprocessing import LabelEncoder\n",
    "from sklearn.metrics import accuracy_score\n",
    "\n",
    "# Load the books_df data\n",
    "books_df = df[df['all_genres'].isnull() == False][['title', 'main_genre']]\n",
    "\n",
    "# Convert the book genres into numerical representations\n",
    "encoder = LabelEncoder()\n",
    "books_df[\"genre_encoded\"] = encoder.fit_transform(books_df[\"main_genre\"])\n",
    "\n",
    "# Split the data into training and testing sets\n",
    "train_data, test_data, train_labels, test_labels = train_test_split(books_df[\"title\"], books_df[\"genre_encoded\"], test_size=0.2, random_state=47)\n",
    "\n",
    "# Convert the book titles into numerical representations\n",
    "num_words = 5000\n",
    "tokenizer = Tokenizer(num_words=num_words)\n",
    "tokenizer.fit_on_texts(train_data)\n",
    "train_sequences = tokenizer.texts_to_sequences(train_data)\n",
    "test_sequences = tokenizer.texts_to_sequences(test_data)\n",
    "max_sequence_length = max([len(seq) for seq in train_sequences + test_sequences])\n",
    "train_data = pad_sequences(train_sequences, maxlen=max_sequence_length)\n",
    "test_data = pad_sequences(test_sequences, maxlen=max_sequence_length)\n",
    "\n",
    "# Build a Convolutional Neural Network\n",
    "model = Sequential()\n",
    "model.add(Embedding(num_words, 128, input_length=max_sequence_length))\n",
    "model.add(Conv1D(128, 3, activation='relu'))\n",
    "model.add(GlobalMaxPooling1D())\n",
    "model.add(Dense(128, activation='relu'))\n",
    "model.add(Dense(len(encoder.classes_), activation='softmax'))\n",
    "model.compile(loss='sparse_categorical_crossentropy', optimizer='adam', metrics=['accuracy'])\n",
    "\n",
    "# Train the model on the training data\n",
    "model.fit(train_data, train_labels, epochs=10, batch_size=32)\n",
    "\n",
    "# Predict the book genres for the test data\n",
    "predictions = np.argmax(model.predict(test_data), axis=1)\n",
    "\n",
    "# Calculate the accuracy of the model\n",
    "accuracy = accuracy_score(test_labels, predictions)\n",
    "print(\"Accuracy:\", accuracy)"
   ]
  },
  {
   "cell_type": "markdown",
   "id": "f3d7b1a8",
   "metadata": {},
   "source": [
    "As it appear the SVM accuracy is higher so I will use it"
   ]
  },
  {
   "cell_type": "code",
   "execution_count": 112,
   "id": "f4736c65",
   "metadata": {},
   "outputs": [],
   "source": [
    "def predict_book_main_genre(row):\n",
    "    if type(row['main_genre']) is type(np.nan):\n",
    "        # Convert the book title into a feature vector\n",
    "        new_book_vector = vectorizer.transform([row['title']])\n",
    "\n",
    "        # Predict the genre of the new book\n",
    "        predicted_genre = clf.predict(new_book_vector)[0]\n",
    "        return predicted_genre\n",
    "    return row['main_genre']\n",
    "    \n",
    "df['main_genre'] = df.apply(predict_book_main_genre, axis=1)"
   ]
  },
  {
   "cell_type": "markdown",
   "id": "ab22d75e",
   "metadata": {},
   "source": [
    "Next I will build another machine learning model to predict sub genre based on book title and book main genre"
   ]
  },
  {
   "cell_type": "code",
   "execution_count": 113,
   "id": "58ba741e",
   "metadata": {
    "scrolled": true
   },
   "outputs": [],
   "source": [
    "import pandas as pd\n",
    "import numpy as np\n",
    "from sklearn.feature_extraction.text import CountVectorizer\n",
    "from sklearn.svm import SVC\n",
    "from sklearn.model_selection import train_test_split\n",
    "from sklearn.metrics import accuracy_score\n",
    "\n",
    "# Load the books data into a pandas dataframe\n",
    "books_df = df[df['sub_genre'].isnull() == False][['title', 'main_genre', 'sub_genre']]\n",
    "\n",
    "# Convert the main genre into numerical categories\n",
    "books_df['main_genre'] = books_df['main_genre'].astype('category').cat.codes\n",
    "\n",
    "# Split the data into training and testing sets\n",
    "train_data, test_data, train_labels, test_labels = train_test_split(books_df[['title', 'main_genre']], books_df['sub_genre'], test_size=0.2, random_state=42)\n",
    "\n",
    "# Convert the book titles and main genres into a bag of words representation\n",
    "vectorizer = CountVectorizer()\n",
    "train_title_vectors = vectorizer.fit_transform(train_data['title'])\n",
    "test_title_vectors = vectorizer.transform(test_data['title'])\n",
    "\n",
    "# Combine the title and main genre feature vectors into a single feature matrix\n",
    "train_vectors = np.hstack((train_title_vectors.toarray(), train_data['main_genre'].values.reshape(-1, 1)))\n",
    "test_vectors = np.hstack((test_title_vectors.toarray(), test_data['main_genre'].values.reshape(-1, 1)))\n",
    "\n",
    "# Train a SVM classifier on the training data\n",
    "clf = SVC(kernel='linear')\n",
    "clf.fit(train_vectors, train_labels)\n",
    "\n",
    "# Predict the sub-genres for the test data\n",
    "predictions = clf.predict(test_vectors)\n",
    "\n",
    "# Calculate the accuracy of the classifier\n",
    "accuracy = accuracy_score(test_labels, predictions)\n",
    "print(\"Accuracy:\", accuracy)"
   ]
  },
  {
   "cell_type": "code",
   "execution_count": 114,
   "id": "8c72cf8c",
   "metadata": {},
   "outputs": [
    {
     "name": "stdout",
     "output_type": "stream",
     "text": [
      "Accuracy: 0.39210747271200674\n"
     ]
    }
   ],
   "source": [
    "from sklearn.feature_extraction.text import CountVectorizer\n",
    "from sklearn.svm import SVC\n",
    "from sklearn.model_selection import train_test_split\n",
    "from sklearn.metrics import accuracy_score\n",
    "\n",
    "# Load the books_df data into a pandas dataframe\n",
    "books_df = df[df['sub_genre'].isnull() == False][['title', 'sub_genre']]\n",
    "\n",
    "# Split the data into training and testing sets\n",
    "train_data, test_data, train_labels, test_labels = train_test_split(books_df[\"title\"], books_df[\"sub_genre\"], test_size=0.2, random_state=42)\n",
    "\n",
    "# Convert the book titles into a bag-of-words representation\n",
    "vectorizer = CountVectorizer()\n",
    "train_vectors = vectorizer.fit_transform(train_data)\n",
    "test_vectors = vectorizer.transform(test_data)\n",
    "\n",
    "# Train a SVM classifier on the training data\n",
    "clf = SVC(kernel='linear')\n",
    "clf.fit(train_vectors, train_labels)\n",
    "\n",
    "# Predict the book genres for the test data\n",
    "predictions = clf.predict(test_vectors)\n",
    "\n",
    "# Calculate the accuracy of the classifier\n",
    "accuracy = accuracy_score(test_labels, predictions)\n",
    "print(\"Accuracy:\", accuracy)"
   ]
  },
  {
   "cell_type": "code",
   "execution_count": 115,
   "id": "bb483d2e",
   "metadata": {},
   "outputs": [],
   "source": [
    "def predict_book_sub_genre(row):\n",
    "    if type(row['sub_genre']) is type(np.nan):\n",
    "        # Convert the book title into a feature vector\n",
    "        new_book_vector = vectorizer.transform([row['title']])\n",
    "\n",
    "        # Predict the genre of the new book\n",
    "        predicted_genre = clf.predict(new_book_vector)[0]\n",
    "        return predicted_genre\n",
    "    return row['sub_genre']\n",
    "    \n",
    "df['sub_genre'] = df.apply(predict_book_main_genre, axis=1)"
   ]
  },
  {
   "cell_type": "markdown",
   "id": "48eea95d",
   "metadata": {},
   "source": [
    "Remove all_genres after extracting the informations"
   ]
  },
  {
   "cell_type": "code",
   "execution_count": 116,
   "id": "4f56d29a",
   "metadata": {},
   "outputs": [],
   "source": [
    "df.drop('all_genres', axis=1, inplace=True)"
   ]
  },
  {
   "cell_type": "markdown",
   "id": "f56360a7",
   "metadata": {},
   "source": [
    "#### ISBN Column\n",
    "remove isbn column (unnecessary for the analysis)"
   ]
  },
  {
   "cell_type": "code",
   "execution_count": 117,
   "id": "2a85285a",
   "metadata": {},
   "outputs": [],
   "source": [
    "df.drop('ISBN', axis=1, inplace=True)"
   ]
  },
  {
   "cell_type": "markdown",
   "id": "80468d3e",
   "metadata": {},
   "source": [
    "Check the final data results"
   ]
  },
  {
   "cell_type": "code",
   "execution_count": 118,
   "id": "c382c3df",
   "metadata": {},
   "outputs": [
    {
     "name": "stdout",
     "output_type": "stream",
     "text": [
      "<class 'pandas.core.frame.DataFrame'>\n",
      "Int64Index: 11752 entries, 0 to 1547\n",
      "Data columns (total 27 columns):\n",
      " #   Column                    Non-Null Count  Dtype         \n",
      "---  ------                    --------------  -----         \n",
      " 0   goodreads_id              11752 non-null  object        \n",
      " 1   title                     11752 non-null  object        \n",
      " 2   publication_info          11752 non-null  datetime64[ns]\n",
      " 3   number_of_rattings        11752 non-null  int64         \n",
      " 4   number_of_reviews         11752 non-null  int64         \n",
      " 5   book_rate                 11752 non-null  float64       \n",
      " 6   number_of_5_stars_rating  11752 non-null  int64         \n",
      " 7   number_of_4_stars_rating  11752 non-null  int64         \n",
      " 8   number_of_3_stars_rating  11752 non-null  int64         \n",
      " 9   number_of_2_stars_rating  11752 non-null  int64         \n",
      " 10  number_of_1_stars_rating  11752 non-null  int64         \n",
      " 11  author_name               11752 non-null  object        \n",
      " 12  author_no_of_books        11752 non-null  int64         \n",
      " 13  author_followers          11752 non-null  int64         \n",
      " 14  original_title            11752 non-null  object        \n",
      " 15  all_contributors          11752 non-null  object        \n",
      " 16  number_of_editions        11752 non-null  int64         \n",
      " 17  currently_reading         11752 non-null  int64         \n",
      " 18  to_read                   11752 non-null  int64         \n",
      " 19  first_published_date      11752 non-null  datetime64[ns]\n",
      " 20  publisher                 11752 non-null  object        \n",
      " 21  no_of_papers              11752 non-null  float64       \n",
      " 22  book_type                 11752 non-null  object        \n",
      " 23  is_translated             11752 non-null  bool          \n",
      " 24  translator                2139 non-null   object        \n",
      " 25  main_genre                11752 non-null  object        \n",
      " 26  sub_genre                 11752 non-null  object        \n",
      "dtypes: bool(1), datetime64[ns](2), float64(2), int64(12), object(10)\n",
      "memory usage: 2.4+ MB\n"
     ]
    }
   ],
   "source": [
    "df.info()"
   ]
  },
  {
   "cell_type": "markdown",
   "id": "e6f7c84e",
   "metadata": {},
   "source": [
    "### Check duplicates after cleaning"
   ]
  },
  {
   "cell_type": "markdown",
   "id": "362f40d1",
   "metadata": {},
   "source": [
    "#### General duplicated"
   ]
  },
  {
   "cell_type": "code",
   "execution_count": 119,
   "id": "a384865a",
   "metadata": {},
   "outputs": [
    {
     "data": {
      "text/plain": [
       "97"
      ]
     },
     "execution_count": 119,
     "metadata": {},
     "output_type": "execute_result"
    }
   ],
   "source": [
    "df.duplicated().sum()"
   ]
  },
  {
   "cell_type": "code",
   "execution_count": 120,
   "id": "90a6d786",
   "metadata": {},
   "outputs": [],
   "source": [
    "df.drop_duplicates(inplace=True)"
   ]
  },
  {
   "cell_type": "markdown",
   "id": "7cea7901",
   "metadata": {},
   "source": [
    "#### Duplicated based on goodreads ID"
   ]
  },
  {
   "cell_type": "code",
   "execution_count": 121,
   "id": "0c644135",
   "metadata": {},
   "outputs": [
    {
     "data": {
      "text/plain": [
       "155"
      ]
     },
     "execution_count": 121,
     "metadata": {},
     "output_type": "execute_result"
    }
   ],
   "source": [
    "df['goodreads_id'].duplicated().sum()"
   ]
  },
  {
   "cell_type": "code",
   "execution_count": 122,
   "id": "7ed688a3",
   "metadata": {},
   "outputs": [],
   "source": [
    "df.drop_duplicates(subset='goodreads_id', inplace=True)"
   ]
  },
  {
   "cell_type": "markdown",
   "id": "fdb697c2",
   "metadata": {},
   "source": [
    "### Save Cleaned data to csv file"
   ]
  },
  {
   "cell_type": "code",
   "execution_count": 123,
   "id": "fad00618",
   "metadata": {},
   "outputs": [],
   "source": [
    "df.to_csv('cleanded_goodreads_data.csv', index=False)"
   ]
  }
 ],
 "metadata": {
  "kernelspec": {
   "display_name": "Python 3 (ipykernel)",
   "language": "python",
   "name": "python3"
  },
  "language_info": {
   "codemirror_mode": {
    "name": "ipython",
    "version": 3
   },
   "file_extension": ".py",
   "mimetype": "text/x-python",
   "name": "python",
   "nbconvert_exporter": "python",
   "pygments_lexer": "ipython3",
   "version": "3.9.13"
  }
 },
 "nbformat": 4,
 "nbformat_minor": 5
}
