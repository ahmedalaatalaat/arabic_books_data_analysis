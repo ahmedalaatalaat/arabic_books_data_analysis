{
 "cells": [
  {
   "cell_type": "markdown",
   "id": "c280f8ca",
   "metadata": {},
   "source": [
    "![neelwafurat logo](https://www.neelwafurat.com/graphics/common/NWF_logo.png)\n",
    "\n",
    "# Neelwafurat website books scrapping\n",
    "**Note: All the links were collected on 11-02-2023**\n",
    "\n",
    "In this notebook we will collect all files in onle file, clean isbn column and save it to new file with all data"
   ]
  },
  {
   "cell_type": "code",
   "execution_count": 1,
   "id": "680cf754",
   "metadata": {},
   "outputs": [],
   "source": [
    "import pandas as pd\n",
    "import numpy as np\n",
    "import re"
   ]
  },
  {
   "cell_type": "code",
   "execution_count": 2,
   "id": "d108ac02",
   "metadata": {},
   "outputs": [],
   "source": [
    "dfs = []\n",
    "for i in range(1, 27):\n",
    "    df = pd.read_csv(f'isbn_data\\my_books_lib_neelwafurat_arabic_isbn_{i:02d}.csv')\n",
    "    dfs.append(df)\n",
    "df = pd.concat(dfs)"
   ]
  },
  {
   "cell_type": "code",
   "execution_count": 3,
   "id": "73ca8f96",
   "metadata": {},
   "outputs": [],
   "source": [
    "def extract_isbn_number(isbn):\n",
    "    try:\n",
    "        number = re.findall(r'\\d+', isbn)[0]\n",
    "        return number\n",
    "    except:\n",
    "        return np.nan\n",
    "\n",
    "df['ISBN'] = df['ISBN'].apply(extract_isbn_number)"
   ]
  },
  {
   "cell_type": "code",
   "execution_count": 4,
   "id": "6b434f2c",
   "metadata": {},
   "outputs": [],
   "source": [
    "df.dropna(inplace=True)\n",
    "df.drop_duplicates(subset='ISBN', inplace=True)"
   ]
  },
  {
   "cell_type": "code",
   "execution_count": 5,
   "id": "72caae73",
   "metadata": {},
   "outputs": [
    {
     "data": {
      "text/html": [
       "<div>\n",
       "<style scoped>\n",
       "    .dataframe tbody tr th:only-of-type {\n",
       "        vertical-align: middle;\n",
       "    }\n",
       "\n",
       "    .dataframe tbody tr th {\n",
       "        vertical-align: top;\n",
       "    }\n",
       "\n",
       "    .dataframe thead th {\n",
       "        text-align: right;\n",
       "    }\n",
       "</style>\n",
       "<table border=\"1\" class=\"dataframe\">\n",
       "  <thead>\n",
       "    <tr style=\"text-align: right;\">\n",
       "      <th></th>\n",
       "      <th>Link</th>\n",
       "      <th>ISBN</th>\n",
       "    </tr>\n",
       "  </thead>\n",
       "  <tbody>\n",
       "    <tr>\n",
       "      <th>0</th>\n",
       "      <td>https://www.neelwafurat.com/itempage.aspx?id=l...</td>\n",
       "      <td>9789975355210</td>\n",
       "    </tr>\n",
       "    <tr>\n",
       "      <th>4</th>\n",
       "      <td>https://www.neelwafurat.com/itempage.aspx?id=e...</td>\n",
       "      <td>9789773155612</td>\n",
       "    </tr>\n",
       "    <tr>\n",
       "      <th>5</th>\n",
       "      <td>https://www.neelwafurat.com/itempage.aspx?id=e...</td>\n",
       "      <td>9771975889</td>\n",
       "    </tr>\n",
       "    <tr>\n",
       "      <th>6</th>\n",
       "      <td>https://www.neelwafurat.com/itempage.aspx?id=l...</td>\n",
       "      <td>9789957120360</td>\n",
       "    </tr>\n",
       "    <tr>\n",
       "      <th>7</th>\n",
       "      <td>https://www.neelwafurat.com/itempage.aspx?id=l...</td>\n",
       "      <td>1575475278</td>\n",
       "    </tr>\n",
       "  </tbody>\n",
       "</table>\n",
       "</div>"
      ],
      "text/plain": [
       "                                                Link           ISBN\n",
       "0  https://www.neelwafurat.com/itempage.aspx?id=l...  9789975355210\n",
       "4  https://www.neelwafurat.com/itempage.aspx?id=e...  9789773155612\n",
       "5  https://www.neelwafurat.com/itempage.aspx?id=e...     9771975889\n",
       "6  https://www.neelwafurat.com/itempage.aspx?id=l...  9789957120360\n",
       "7  https://www.neelwafurat.com/itempage.aspx?id=l...     1575475278"
      ]
     },
     "execution_count": 5,
     "metadata": {},
     "output_type": "execute_result"
    }
   ],
   "source": [
    "df.head()"
   ]
  },
  {
   "cell_type": "code",
   "execution_count": 6,
   "id": "97320721",
   "metadata": {},
   "outputs": [],
   "source": [
    "df.to_csv('all_in_one_diwan_isb_link.csv', index=False)"
   ]
  },
  {
   "cell_type": "code",
   "execution_count": 7,
   "id": "d7e6a31e",
   "metadata": {},
   "outputs": [],
   "source": [
    "df.drop('Link', inplace=True, axis=1)\n",
    "df.to_csv('all_in_one_diwan_isb_only.csv', index=False)"
   ]
  }
 ],
 "metadata": {
  "kernelspec": {
   "display_name": "Python 3 (ipykernel)",
   "language": "python",
   "name": "python3"
  },
  "language_info": {
   "codemirror_mode": {
    "name": "ipython",
    "version": 3
   },
   "file_extension": ".py",
   "mimetype": "text/x-python",
   "name": "python",
   "nbconvert_exporter": "python",
   "pygments_lexer": "ipython3",
   "version": "3.9.13"
  }
 },
 "nbformat": 4,
 "nbformat_minor": 5
}
